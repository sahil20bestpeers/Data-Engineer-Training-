{
  "nbformat": 4,
  "nbformat_minor": 0,
  "metadata": {
    "colab": {
      "provenance": []
    },
    "kernelspec": {
      "name": "python3",
      "display_name": "Python 3"
    },
    "language_info": {
      "name": "python"
    }
  },
  "cells": [
    {
      "cell_type": "code",
      "execution_count": 2,
      "metadata": {
        "id": "eLGlSQxbi7DJ"
      },
      "outputs": [],
      "source": [
        "# Day 7: Weekly Review + Mini Project\n",
        "# ● Revise NumPy and core Python\n",
        "# ● 🧠 Project: Simulate a basic ETL pipeline for IoT data using NumPy\n",
        "# 🔹 Mini Project:\n",
        "# Simulate and process IoT sensor data (temperature, humidity, motion):\n",
        "# ● Generate 1000 entries with timestamps using NumPy.\n",
        "# ● Filter entries where temperature > 35 and motion detected.\n",
        "# ● Save to CSV.\n",
        "\n",
        "import numpy as np"
      ]
    },
    {
      "cell_type": "code",
      "source": [
        "np.full([2, 2], 67, dtype =\n",
        " int)"
      ],
      "metadata": {
        "colab": {
          "base_uri": "https://localhost:8080/"
        },
        "id": "ug3JtomdnSsi",
        "outputId": "54c5fa56-afca-4d08-a9ce-38abec21f8b3"
      },
      "execution_count": 3,
      "outputs": [
        {
          "output_type": "execute_result",
          "data": {
            "text/plain": [
              "array([[67, 67],\n",
              "       [67, 67]])"
            ]
          },
          "metadata": {},
          "execution_count": 3
        }
      ]
    },
    {
      "cell_type": "code",
      "source": [
        "print(np.arange(1,10))"
      ],
      "metadata": {
        "colab": {
          "base_uri": "https://localhost:8080/"
        },
        "id": "g_vFRxzZnSon",
        "outputId": "f8367ad7-83f1-4c7d-9f5d-2f9bb185340b"
      },
      "execution_count": 4,
      "outputs": [
        {
          "output_type": "stream",
          "name": "stdout",
          "text": [
            "[1 2 3 4 5 6 7 8 9]\n"
          ]
        }
      ]
    },
    {
      "cell_type": "code",
      "source": [
        "print(np.ones([4, 3], dtype = np.int32))\n"
      ],
      "metadata": {
        "colab": {
          "base_uri": "https://localhost:8080/"
        },
        "id": "l7dMUt_pnSky",
        "outputId": "3b42c5b2-ac4c-4622-fe07-a617e833daad"
      },
      "execution_count": 5,
      "outputs": [
        {
          "output_type": "stream",
          "name": "stdout",
          "text": [
            "[[1 1 1]\n",
            " [1 1 1]\n",
            " [1 1 1]\n",
            " [1 1 1]]\n"
          ]
        }
      ]
    },
    {
      "cell_type": "code",
      "source": [
        "print(np.full([2,2],67,dtype = int))"
      ],
      "metadata": {
        "colab": {
          "base_uri": "https://localhost:8080/"
        },
        "id": "d6gwRgh_nShv",
        "outputId": "7f0e4b7f-d123-456b-f632-6c42f9cdfd4e"
      },
      "execution_count": 6,
      "outputs": [
        {
          "output_type": "stream",
          "name": "stdout",
          "text": [
            "[[67 67]\n",
            " [67 67]]\n"
          ]
        }
      ]
    },
    {
      "cell_type": "code",
      "source": [
        "arr = np.array([1,2,3,4,5,6,7,8])\n",
        "num = arr.astype('float')\n",
        "print(num)"
      ],
      "metadata": {
        "colab": {
          "base_uri": "https://localhost:8080/"
        },
        "id": "1L4M8BmLnSeo",
        "outputId": "154f80a1-8c39-4485-fa59-023157d7653b"
      },
      "execution_count": 7,
      "outputs": [
        {
          "output_type": "stream",
          "name": "stdout",
          "text": [
            "[1. 2. 3. 4. 5. 6. 7. 8.]\n"
          ]
        }
      ]
    },
    {
      "cell_type": "code",
      "source": [
        "arr = np.array([2,3,4,5,7,9,4,5])\n",
        "num = arr.tolist()\n",
        "print(num)"
      ],
      "metadata": {
        "colab": {
          "base_uri": "https://localhost:8080/"
        },
        "id": "7IwumpDVnSbh",
        "outputId": "24470d0d-d190-4676-fee1-e90a8b041d88"
      },
      "execution_count": 8,
      "outputs": [
        {
          "output_type": "stream",
          "name": "stdout",
          "text": [
            "[2, 3, 4, 5, 7, 9, 4, 5]\n"
          ]
        }
      ]
    },
    {
      "cell_type": "code",
      "source": [
        "np.save(\"sahil2.txt\",np.arange(5))"
      ],
      "metadata": {
        "id": "m2ySF849nSYW"
      },
      "execution_count": 9,
      "outputs": []
    },
    {
      "cell_type": "code",
      "source": [
        "np.load(\"sahil2.txt.npy\")"
      ],
      "metadata": {
        "colab": {
          "base_uri": "https://localhost:8080/"
        },
        "id": "ImLxA1mEnSU3",
        "outputId": "086b04c4-7e87-4f24-f808-3664253739b2"
      },
      "execution_count": 10,
      "outputs": [
        {
          "output_type": "execute_result",
          "data": {
            "text/plain": [
              "array([0, 1, 2, 3, 4])"
            ]
          },
          "metadata": {},
          "execution_count": 10
        }
      ]
    },
    {
      "cell_type": "code",
      "source": [
        "np.loadtxt('sahil2.txt', delimiter= ',')"
      ],
      "metadata": {
        "colab": {
          "base_uri": "https://localhost:8080/"
        },
        "id": "mKaK8e-JnSRq",
        "outputId": "993e7c8f-d754-4cb8-ca4d-6b3a0be5e25a"
      },
      "execution_count": 128,
      "outputs": [
        {
          "output_type": "execute_result",
          "data": {
            "text/plain": [
              "array([[25. , 85.5],\n",
              "       [30. , 92.1],\n",
              "       [22. , 78.9]])"
            ]
          },
          "metadata": {},
          "execution_count": 128
        }
      ]
    },
    {
      "cell_type": "code",
      "source": [
        "np.genfromtxt('/content/pandas.csv',delimiter=',')"
      ],
      "metadata": {
        "colab": {
          "base_uri": "https://localhost:8080/"
        },
        "id": "uE7LrZsrnSOr",
        "outputId": "91c85a9b-f5a1-4fc7-e174-c760ecb057e0"
      },
      "execution_count": 130,
      "outputs": [
        {
          "output_type": "execute_result",
          "data": {
            "text/plain": [
              "array([[ nan,  nan,  nan],\n",
              "       [ nan, 25. , 85.5],\n",
              "       [ nan, 30. , 92.1],\n",
              "       [ nan, 22. , 78.9]])"
            ]
          },
          "metadata": {},
          "execution_count": 130
        }
      ]
    },
    {
      "cell_type": "code",
      "source": [
        "np.savetxt('sahil2.txt',arr,delimiter= ',')"
      ],
      "metadata": {
        "id": "MeM_xBIenSLo"
      },
      "execution_count": 131,
      "outputs": []
    },
    {
      "cell_type": "code",
      "source": [
        "import numpy as np\n",
        "original_array  = np.array([1,2,3,4])\n",
        "copied_array = original_array.copy()\n",
        "\n",
        "\n",
        "copied_array[0] = 99\n",
        "print(original_array)\n",
        "print(copied_array)"
      ],
      "metadata": {
        "colab": {
          "base_uri": "https://localhost:8080/"
        },
        "id": "Moy4GdvJ24cP",
        "outputId": "7aabc205-977e-4964-8337-b692e98bdaac"
      },
      "execution_count": 132,
      "outputs": [
        {
          "output_type": "stream",
          "name": "stdout",
          "text": [
            "[1 2 3 4]\n",
            "[99  2  3  4]\n"
          ]
        }
      ]
    },
    {
      "cell_type": "code",
      "source": [
        "original_array = np.array([1,2,3,4,5])\n",
        "view_array = original_array.view()\n",
        "\n",
        "\n",
        "view_array[0] = 78\n",
        "print(original_array)\n",
        "print(view_array)"
      ],
      "metadata": {
        "colab": {
          "base_uri": "https://localhost:8080/"
        },
        "id": "NJ-0LNkz24Yi",
        "outputId": "9697ccae-5e97-4490-c8d9-83d54ee85c85"
      },
      "execution_count": 133,
      "outputs": [
        {
          "output_type": "stream",
          "name": "stdout",
          "text": [
            "[78  2  3  4  5]\n",
            "[78  2  3  4  5]\n"
          ]
        }
      ]
    },
    {
      "cell_type": "code",
      "source": [
        "original_array\n",
        "\n",
        "b = np.array([[1,2,3,4],[5,6,7,8]])\n",
        "deleted_array = np.delete(original_array,4)\n",
        "deleted_array"
      ],
      "metadata": {
        "colab": {
          "base_uri": "https://localhost:8080/"
        },
        "id": "UN-T3QML24Vc",
        "outputId": "38fb9be7-2a21-4d61-9abb-88f453091455"
      },
      "execution_count": 134,
      "outputs": [
        {
          "output_type": "execute_result",
          "data": {
            "text/plain": [
              "array([78,  2,  3,  4])"
            ]
          },
          "metadata": {},
          "execution_count": 134
        }
      ]
    },
    {
      "cell_type": "code",
      "source": [
        "b\n",
        "deleted_two_d_array = np.delete(b,[2])\n",
        "deleted_two_d_array\n",
        "print(b)\n",
        "print(deleted_two_d_array)"
      ],
      "metadata": {
        "colab": {
          "base_uri": "https://localhost:8080/"
        },
        "id": "D3Zg4wb724SB",
        "outputId": "a2e87e2b-ee53-4473-889e-902f9094f437"
      },
      "execution_count": 135,
      "outputs": [
        {
          "output_type": "stream",
          "name": "stdout",
          "text": [
            "[[1 2 3 4]\n",
            " [5 6 7 8]]\n",
            "[1 2 4 5 6 7 8]\n"
          ]
        }
      ]
    },
    {
      "cell_type": "code",
      "source": [
        "array = np.array([1, 2, 3, 4, 5, 6, 7, 8, 9,\n",
        "10, 11, 12, 13, 14, 15, 16])\n",
        "reshaped_1 = array.reshape((4,array.size//4))\n",
        "print(reshaped_1)\n",
        "reshaped_1"
      ],
      "metadata": {
        "colab": {
          "base_uri": "https://localhost:8080/"
        },
        "id": "2bsUTNtP24O3",
        "outputId": "392898f3-2ee9-4494-f592-d773e81ba60b"
      },
      "execution_count": 13,
      "outputs": [
        {
          "output_type": "stream",
          "name": "stdout",
          "text": [
            "[[ 1  2  3  4]\n",
            " [ 5  6  7  8]\n",
            " [ 9 10 11 12]\n",
            " [13 14 15 16]]\n"
          ]
        },
        {
          "output_type": "execute_result",
          "data": {
            "text/plain": [
              "array([[ 1,  2,  3,  4],\n",
              "       [ 5,  6,  7,  8],\n",
              "       [ 9, 10, 11, 12],\n",
              "       [13, 14, 15, 16]])"
            ]
          },
          "metadata": {},
          "execution_count": 13
        }
      ]
    },
    {
      "cell_type": "code",
      "source": [
        "arr = np.array([1, 2, 3, 4, 5, 6])\n",
        "arr.resize(3,4)\n",
        "print(arr)"
      ],
      "metadata": {
        "colab": {
          "base_uri": "https://localhost:8080/"
        },
        "id": "6VXmsHIr24MS",
        "outputId": "4899c2be-fed3-46e1-d1fb-5fb0dca6944d"
      },
      "execution_count": 14,
      "outputs": [
        {
          "output_type": "stream",
          "name": "stdout",
          "text": [
            "[[1 2 3 4]\n",
            " [5 6 0 0]\n",
            " [0 0 0 0]]\n"
          ]
        }
      ]
    },
    {
      "cell_type": "code",
      "source": [
        "list_1 = [1, 2, 3, 4]\n",
        "list_2 = [5, 6, 7, 8]\n",
        "arr = np.array([list_1, list_2])\n",
        "print(arr.flatten())"
      ],
      "metadata": {
        "colab": {
          "base_uri": "https://localhost:8080/"
        },
        "id": "_chpafMp24Jn",
        "outputId": "f7cdfc22-fe9c-4f73-9146-4532e34365b5"
      },
      "execution_count": 15,
      "outputs": [
        {
          "output_type": "stream",
          "name": "stdout",
          "text": [
            "[1 2 3 4 5 6 7 8]\n"
          ]
        }
      ]
    },
    {
      "cell_type": "code",
      "source": [
        "gfg = np.array([[1, 2],\n",
        " [4, 5],\n",
        " [7, 8]])\n",
        "gfg"
      ],
      "metadata": {
        "colab": {
          "base_uri": "https://localhost:8080/"
        },
        "id": "5jxIQGyI6Jh_",
        "outputId": "0fb728ba-3902-4f95-fcee-e9044660d681"
      },
      "execution_count": 16,
      "outputs": [
        {
          "output_type": "execute_result",
          "data": {
            "text/plain": [
              "array([[1, 2],\n",
              "       [4, 5],\n",
              "       [7, 8]])"
            ]
          },
          "metadata": {},
          "execution_count": 16
        }
      ]
    },
    {
      "cell_type": "code",
      "source": [
        "print(gfg, end ='\\n\\n')"
      ],
      "metadata": {
        "colab": {
          "base_uri": "https://localhost:8080/"
        },
        "id": "w1dXXLyS6XYU",
        "outputId": "0cd5e186-163e-48bb-96e5-f68c28fa8bc2"
      },
      "execution_count": 17,
      "outputs": [
        {
          "output_type": "stream",
          "name": "stdout",
          "text": [
            "[[1 2]\n",
            " [4 5]\n",
            " [7 8]]\n",
            "\n"
          ]
        }
      ]
    },
    {
      "cell_type": "code",
      "source": [
        "print(gfg.transpose(1,0))"
      ],
      "metadata": {
        "colab": {
          "base_uri": "https://localhost:8080/"
        },
        "id": "cQGzYYea6XUq",
        "outputId": "a519d594-7f98-448b-a72a-31ef441b6549"
      },
      "execution_count": 18,
      "outputs": [
        {
          "output_type": "stream",
          "name": "stdout",
          "text": [
            "[[1 4 7]\n",
            " [2 5 8]]\n"
          ]
        }
      ]
    },
    {
      "cell_type": "code",
      "source": [],
      "metadata": {
        "id": "wyzS5OX86XRg"
      },
      "execution_count": 18,
      "outputs": []
    },
    {
      "cell_type": "code",
      "source": [
        "arr1= np.arange(24).reshape(6,4)\n",
        "arr1"
      ],
      "metadata": {
        "colab": {
          "base_uri": "https://localhost:8080/"
        },
        "id": "KZj0jMEh6XOL",
        "outputId": "827eaeea-14ea-44eb-9a5c-3e77a560e8da"
      },
      "execution_count": 19,
      "outputs": [
        {
          "output_type": "execute_result",
          "data": {
            "text/plain": [
              "array([[ 0,  1,  2,  3],\n",
              "       [ 4,  5,  6,  7],\n",
              "       [ 8,  9, 10, 11],\n",
              "       [12, 13, 14, 15],\n",
              "       [16, 17, 18, 19],\n",
              "       [20, 21, 22, 23]])"
            ]
          },
          "metadata": {},
          "execution_count": 19
        }
      ]
    },
    {
      "cell_type": "code",
      "source": [
        "print(arr1[[0,1,1],[1,2,3]])"
      ],
      "metadata": {
        "colab": {
          "base_uri": "https://localhost:8080/"
        },
        "id": "Qc28oJXr6XLv",
        "outputId": "55b82fb8-2ba6-46bb-9e67-65e31a26dd56"
      },
      "execution_count": 20,
      "outputs": [
        {
          "output_type": "stream",
          "name": "stdout",
          "text": [
            "[1 6 7]\n"
          ]
        }
      ]
    },
    {
      "cell_type": "code",
      "source": [
        "an_array = np.array([[1, 2], [3, 4]])\n",
        "another_array = np.array([[1, 2], [3, 4]])\n",
        "comparison = an_array == another_array\n",
        "equal_arrays = comparison.all()\n",
        "print(equal_arrays)"
      ],
      "metadata": {
        "colab": {
          "base_uri": "https://localhost:8080/"
        },
        "id": "hfH26fYm-WA1",
        "outputId": "26865898-864a-4978-a0c0-18409f3606f2"
      },
      "execution_count": 21,
      "outputs": [
        {
          "output_type": "stream",
          "name": "stdout",
          "text": [
            "True\n"
          ]
        }
      ]
    },
    {
      "cell_type": "code",
      "source": [
        "arr = np.array([.5, 1.5, 2.5, 3.5, 4.5, 10.1])\n",
        "print(\"Square-root:\", np.sqrt(arr))"
      ],
      "metadata": {
        "colab": {
          "base_uri": "https://localhost:8080/"
        },
        "id": "Ulv9R2za-eCq",
        "outputId": "370f57d5-cd8d-4e1d-f23e-a279be0706ec"
      },
      "execution_count": 22,
      "outputs": [
        {
          "output_type": "stream",
          "name": "stdout",
          "text": [
            "Square-root: [0.70710678 1.22474487 1.58113883 1.87082869 2.12132034 3.17804972]\n"
          ]
        }
      ]
    },
    {
      "cell_type": "code",
      "source": [
        "print(\"Log Value: \", np.log(arr))"
      ],
      "metadata": {
        "colab": {
          "base_uri": "https://localhost:8080/"
        },
        "id": "Mv2r8WvQ-d-S",
        "outputId": "eaa3c473-cce0-4a87-9646-edf0bfc27c13"
      },
      "execution_count": 23,
      "outputs": [
        {
          "output_type": "stream",
          "name": "stdout",
          "text": [
            "Log Value:  [-0.69314718  0.40546511  0.91629073  1.25276297  1.5040774   2.31253542]\n"
          ]
        }
      ]
    },
    {
      "cell_type": "code",
      "source": [
        "print(\"Ceil values:\", np.ceil(arr))"
      ],
      "metadata": {
        "colab": {
          "base_uri": "https://localhost:8080/"
        },
        "id": "1jA6EFWP-d7M",
        "outputId": "933b8341-0722-4f35-8e8b-e3e8dd9facc2"
      },
      "execution_count": 24,
      "outputs": [
        {
          "output_type": "stream",
          "name": "stdout",
          "text": [
            "Ceil values: [ 1.  2.  3.  4.  5. 11.]\n"
          ]
        }
      ]
    },
    {
      "cell_type": "code",
      "source": [
        "print(\"Floor Values:\", np.floor(arr))"
      ],
      "metadata": {
        "colab": {
          "base_uri": "https://localhost:8080/"
        },
        "id": "yed9d2gC-d4N",
        "outputId": "2932ed9b-8ed5-4660-920e-92936b2fc00d"
      },
      "execution_count": 25,
      "outputs": [
        {
          "output_type": "stream",
          "name": "stdout",
          "text": [
            "Floor Values: [ 0.  1.  2.  3.  4. 10.]\n"
          ]
        }
      ]
    },
    {
      "cell_type": "code",
      "source": [
        "print (\"Rounded values:\", np.round(arr))"
      ],
      "metadata": {
        "colab": {
          "base_uri": "https://localhost:8080/"
        },
        "id": "gdt0aoDJ-dyF",
        "outputId": "d91700b2-6f65-447b-c14e-7dbb9c50b0f4"
      },
      "execution_count": 26,
      "outputs": [
        {
          "output_type": "stream",
          "name": "stdout",
          "text": [
            "Rounded values: [ 0.  2.  2.  4.  4. 10.]\n"
          ]
        }
      ]
    },
    {
      "cell_type": "code",
      "source": [
        "arr"
      ],
      "metadata": {
        "colab": {
          "base_uri": "https://localhost:8080/"
        },
        "id": "W5LzrRZG-dvn",
        "outputId": "ec32cc03-e977-47b0-da54-b1d154f72ac0"
      },
      "execution_count": 27,
      "outputs": [
        {
          "output_type": "execute_result",
          "data": {
            "text/plain": [
              "array([ 0.5,  1.5,  2.5,  3.5,  4.5, 10.1])"
            ]
          },
          "metadata": {},
          "execution_count": 27
        }
      ]
    },
    {
      "cell_type": "code",
      "source": [
        "print(\"var of arr:\", np.var(arr))"
      ],
      "metadata": {
        "colab": {
          "base_uri": "https://localhost:8080/"
        },
        "id": "i6dLWTQz_xRB",
        "outputId": "bbb98fd2-53ea-495d-f84a-86d460fff224"
      },
      "execution_count": 28,
      "outputs": [
        {
          "output_type": "stream",
          "name": "stdout",
          "text": [
            "var of arr: 9.688888888888886\n"
          ]
        }
      ]
    },
    {
      "cell_type": "code",
      "source": [
        "print(\"std of arr:\", np.std(arr))"
      ],
      "metadata": {
        "colab": {
          "base_uri": "https://localhost:8080/"
        },
        "id": "IWxTheYC_xN2",
        "outputId": "398be12b-bbbd-42e1-f277-822b86d66f58"
      },
      "execution_count": 29,
      "outputs": [
        {
          "output_type": "stream",
          "name": "stdout",
          "text": [
            "std of arr: 3.1126980079810003\n"
          ]
        }
      ]
    },
    {
      "cell_type": "code",
      "source": [
        "array1 = np.array([0, 1, 2])\n",
        "array2 = np.array([3, 4, 5])\n",
        "rslt = np.corrcoef(array1, array2)\n",
        "print(rslt)"
      ],
      "metadata": {
        "colab": {
          "base_uri": "https://localhost:8080/"
        },
        "id": "H9kpN4Yc_xK4",
        "outputId": "0f49451c-d9cd-4133-aa07-a46d264bf241"
      },
      "execution_count": 30,
      "outputs": [
        {
          "output_type": "stream",
          "name": "stdout",
          "text": [
            "[[1. 1.]\n",
            " [1. 1.]]\n"
          ]
        }
      ]
    },
    {
      "cell_type": "code",
      "source": [
        "d = np.arange(10,25,1)"
      ],
      "metadata": {
        "id": "S6btOfVbCA0N"
      },
      "execution_count": 31,
      "outputs": []
    },
    {
      "cell_type": "code",
      "source": [],
      "metadata": {
        "id": "IiKzhIVuC4Zc"
      },
      "execution_count": 65,
      "outputs": []
    },
    {
      "cell_type": "code",
      "source": [
        "reshaped = b.reshape(2,4)\n",
        "reshaped"
      ],
      "metadata": {
        "colab": {
          "base_uri": "https://localhost:8080/"
        },
        "id": "XSdk01ZiDk8n",
        "outputId": "195202d1-5dfd-4f29-ebc8-b7c91af0898d"
      },
      "execution_count": 136,
      "outputs": [
        {
          "output_type": "execute_result",
          "data": {
            "text/plain": [
              "array([[1, 2, 3, 4],\n",
              "       [5, 6, 7, 8]])"
            ]
          },
          "metadata": {},
          "execution_count": 136
        }
      ]
    },
    {
      "cell_type": "code",
      "source": [
        "e = np.full((2,2),7)\n",
        "e"
      ],
      "metadata": {
        "colab": {
          "base_uri": "https://localhost:8080/"
        },
        "id": "yw3FShKrE1vF",
        "outputId": "ebd410bb-dc47-447b-8928-72b7691d98b6"
      },
      "execution_count": 137,
      "outputs": [
        {
          "output_type": "execute_result",
          "data": {
            "text/plain": [
              "array([[7, 7],\n",
              "       [7, 7]])"
            ]
          },
          "metadata": {},
          "execution_count": 137
        }
      ]
    },
    {
      "cell_type": "code",
      "source": [
        "f = np.eye(2)\n",
        "f"
      ],
      "metadata": {
        "colab": {
          "base_uri": "https://localhost:8080/"
        },
        "id": "1BmlYhRJE1re",
        "outputId": "d55730c2-3d4e-42db-8467-bcea02791665"
      },
      "execution_count": 138,
      "outputs": [
        {
          "output_type": "execute_result",
          "data": {
            "text/plain": [
              "array([[1., 0.],\n",
              "       [0., 1.]])"
            ]
          },
          "metadata": {},
          "execution_count": 138
        }
      ]
    },
    {
      "cell_type": "code",
      "source": [
        "c = np.random.random((2,2))\n",
        "c"
      ],
      "metadata": {
        "colab": {
          "base_uri": "https://localhost:8080/"
        },
        "id": "P2TqYYVDE1fb",
        "outputId": "62e42f1c-164c-4c28-8e3f-17537c16187a"
      },
      "execution_count": 33,
      "outputs": [
        {
          "output_type": "execute_result",
          "data": {
            "text/plain": [
              "array([[0.65175043, 0.24284612],\n",
              "       [0.98906046, 0.58363372]])"
            ]
          },
          "metadata": {},
          "execution_count": 33
        }
      ]
    },
    {
      "cell_type": "code",
      "source": [
        "der =  np.empty((2,3))\n",
        "der"
      ],
      "metadata": {
        "colab": {
          "base_uri": "https://localhost:8080/"
        },
        "id": "qp5VDObqE1b5",
        "outputId": "ede87457-8202-4233-e14f-3fde9a6ec0f4"
      },
      "execution_count": 34,
      "outputs": [
        {
          "output_type": "execute_result",
          "data": {
            "text/plain": [
              "array([[-1.,  0.,  1.],\n",
              "       [-1.,  0.,  1.]])"
            ]
          },
          "metadata": {},
          "execution_count": 34
        }
      ]
    },
    {
      "cell_type": "code",
      "source": [
        "my_array = np.empty(5)\n",
        "print(my_array)\n",
        "\n",
        "# Create a 2x3 array of uninitialized integers\n",
        "my_2d_array = np.empty((2, 3), dtype=int)\n",
        "print(my_2d_array)"
      ],
      "metadata": {
        "colab": {
          "base_uri": "https://localhost:8080/"
        },
        "id": "aRO9xKI3GAb8",
        "outputId": "a0fa7d7a-0efe-43ad-cdff-efc1b020a781"
      },
      "execution_count": 35,
      "outputs": [
        {
          "output_type": "stream",
          "name": "stdout",
          "text": [
            "[ 2.  2.  4.  4. 10.]\n",
            "[[-4616189618054758400                    0  4607182418800017408]\n",
            " [-4616189618054758400                    0  4607182418800017408]]\n"
          ]
        }
      ]
    },
    {
      "cell_type": "code",
      "source": [
        "\n",
        "a = [2,7,9,0,7,8,9,6,5]\n",
        "a[ : :-1]"
      ],
      "metadata": {
        "colab": {
          "base_uri": "https://localhost:8080/"
        },
        "id": "ksQchwprHRI8",
        "outputId": "4ae5bf32-d9c6-407a-94ad-735f3b2355b3"
      },
      "execution_count": 36,
      "outputs": [
        {
          "output_type": "execute_result",
          "data": {
            "text/plain": [
              "[5, 6, 9, 8, 7, 0, 9, 7, 2]"
            ]
          },
          "metadata": {},
          "execution_count": 36
        }
      ]
    },
    {
      "cell_type": "code",
      "source": [
        "b = np.array([[ 4. ,5. , 6. , 4. ],\n",
        " [ 1.5, 2. , 3. , 1.5],\n",
        " [ 4. , 5. , 6. , 4. ],\n",
        " [ 1.5, 2. , 3. , 1.5]])\n",
        "\n",
        "print(b[[1,0,1,0],[[0,1,2,0]]])"
      ],
      "metadata": {
        "colab": {
          "base_uri": "https://localhost:8080/"
        },
        "id": "Bw2AinrVHRFF",
        "outputId": "d21b59d9-af7e-4f44-9fac-ebb93023d226"
      },
      "execution_count": 37,
      "outputs": [
        {
          "output_type": "stream",
          "name": "stdout",
          "text": [
            "[[1.5 5.  3.  4. ]]\n"
          ]
        }
      ]
    },
    {
      "cell_type": "code",
      "source": [
        "g = np.array([1,2,3,4,5,6])\n",
        "g.reshape(3,-2)\n"
      ],
      "metadata": {
        "colab": {
          "base_uri": "https://localhost:8080/"
        },
        "id": "9UsK6w7dHRBI",
        "outputId": "4c448c07-b8ba-45ff-a987-c34574cfc803"
      },
      "execution_count": 66,
      "outputs": [
        {
          "output_type": "execute_result",
          "data": {
            "text/plain": [
              "array([[1, 2],\n",
              "       [3, 4],\n",
              "       [5, 6]])"
            ]
          },
          "metadata": {},
          "execution_count": 66
        }
      ]
    },
    {
      "cell_type": "code",
      "source": [],
      "metadata": {
        "id": "c1D8_47HKvKB"
      },
      "execution_count": null,
      "outputs": []
    },
    {
      "cell_type": "code",
      "source": [],
      "metadata": {
        "id": "BRLbe2EUKvG-"
      },
      "execution_count": null,
      "outputs": []
    },
    {
      "cell_type": "code",
      "source": [
        "a = np.array([[1,2,3],[4,5,6]])\n",
        "b = np.array([[7,8,9],[10,11,12]])\n",
        "a\n",
        "b"
      ],
      "metadata": {
        "colab": {
          "base_uri": "https://localhost:8080/"
        },
        "id": "lCdgLV4nKvC9",
        "outputId": "8efc5d12-a5b6-4ac0-9a72-c2c156ce8fca"
      },
      "execution_count": 139,
      "outputs": [
        {
          "output_type": "execute_result",
          "data": {
            "text/plain": [
              "array([[ 7,  8,  9],\n",
              "       [10, 11, 12]])"
            ]
          },
          "metadata": {},
          "execution_count": 139
        }
      ]
    },
    {
      "cell_type": "code",
      "source": [],
      "metadata": {
        "id": "idFgVTDJKuz_"
      },
      "execution_count": null,
      "outputs": []
    },
    {
      "cell_type": "code",
      "source": [
        "np.concatenate((a,b),axis = 0)\n"
      ],
      "metadata": {
        "colab": {
          "base_uri": "https://localhost:8080/"
        },
        "id": "tyhuLKkqHQ99",
        "outputId": "9d24d916-01b1-4188-abd9-0015217202f5"
      },
      "execution_count": 140,
      "outputs": [
        {
          "output_type": "execute_result",
          "data": {
            "text/plain": [
              "array([[ 1,  2,  3],\n",
              "       [ 4,  5,  6],\n",
              "       [ 7,  8,  9],\n",
              "       [10, 11, 12]])"
            ]
          },
          "metadata": {},
          "execution_count": 140
        }
      ]
    },
    {
      "cell_type": "code",
      "source": [
        "np.vstack((a,b))"
      ],
      "metadata": {
        "colab": {
          "base_uri": "https://localhost:8080/"
        },
        "id": "w8Rf4MiPHQ7C",
        "outputId": "392cdff0-8bf1-4df2-ae21-1f5d00763cdc"
      },
      "execution_count": 141,
      "outputs": [
        {
          "output_type": "execute_result",
          "data": {
            "text/plain": [
              "array([[ 1,  2,  3],\n",
              "       [ 4,  5,  6],\n",
              "       [ 7,  8,  9],\n",
              "       [10, 11, 12]])"
            ]
          },
          "metadata": {},
          "execution_count": 141
        }
      ]
    },
    {
      "cell_type": "code",
      "source": [
        "np.hstack((a,b))"
      ],
      "metadata": {
        "colab": {
          "base_uri": "https://localhost:8080/"
        },
        "id": "zvqLggLoHQ4H",
        "outputId": "97cea6a4-3181-428c-c948-4ccf7b9d3754"
      },
      "execution_count": 142,
      "outputs": [
        {
          "output_type": "execute_result",
          "data": {
            "text/plain": [
              "array([[ 1,  2,  3,  7,  8,  9],\n",
              "       [ 4,  5,  6, 10, 11, 12]])"
            ]
          },
          "metadata": {},
          "execution_count": 142
        }
      ]
    },
    {
      "cell_type": "code",
      "source": [
        "np.hsplit(b,3)"
      ],
      "metadata": {
        "colab": {
          "base_uri": "https://localhost:8080/"
        },
        "id": "vGSQhZlrLwEz",
        "outputId": "42794360-f99c-4ee0-b899-a83c42cc04f1"
      },
      "execution_count": 143,
      "outputs": [
        {
          "output_type": "execute_result",
          "data": {
            "text/plain": [
              "[array([[ 7],\n",
              "        [10]]),\n",
              " array([[ 8],\n",
              "        [11]]),\n",
              " array([[ 9],\n",
              "        [12]])]"
            ]
          },
          "metadata": {},
          "execution_count": 143
        }
      ]
    },
    {
      "cell_type": "code",
      "source": [
        "np.vsplit(b,2)"
      ],
      "metadata": {
        "colab": {
          "base_uri": "https://localhost:8080/"
        },
        "id": "7AgJszBpL2oc",
        "outputId": "51b21c8c-9b75-47ca-a3bd-5ff0d1f2b033"
      },
      "execution_count": 144,
      "outputs": [
        {
          "output_type": "execute_result",
          "data": {
            "text/plain": [
              "[array([[7, 8, 9]]), array([[10, 11, 12]])]"
            ]
          },
          "metadata": {},
          "execution_count": 144
        }
      ]
    },
    {
      "cell_type": "code",
      "source": [
        "a = np.arange(30)"
      ],
      "metadata": {
        "id": "qB1yEiNPL2lY"
      },
      "execution_count": 145,
      "outputs": []
    },
    {
      "cell_type": "code",
      "source": [
        "a.reshape(3,2,5)"
      ],
      "metadata": {
        "colab": {
          "base_uri": "https://localhost:8080/"
        },
        "id": "KHxnURI9L2iK",
        "outputId": "72726270-0b29-483b-a531-ec6aa577d90c"
      },
      "execution_count": 146,
      "outputs": [
        {
          "output_type": "execute_result",
          "data": {
            "text/plain": [
              "array([[[ 0,  1,  2,  3,  4],\n",
              "        [ 5,  6,  7,  8,  9]],\n",
              "\n",
              "       [[10, 11, 12, 13, 14],\n",
              "        [15, 16, 17, 18, 19]],\n",
              "\n",
              "       [[20, 21, 22, 23, 24],\n",
              "        [25, 26, 27, 28, 29]]])"
            ]
          },
          "metadata": {},
          "execution_count": 146
        }
      ]
    },
    {
      "cell_type": "code",
      "source": [
        "# Broacasting\n",
        "a = np.arange(2,10).reshape(2,4)\n",
        "print(a)\n",
        "b = np.arange(4).reshape(1,4)\n",
        "b\n",
        "\n",
        "c = a+b\n",
        "c"
      ],
      "metadata": {
        "colab": {
          "base_uri": "https://localhost:8080/"
        },
        "id": "GFbWjO5nb6M4",
        "outputId": "f5dcd6d5-d635-49eb-aec4-a40cca776dcf"
      },
      "execution_count": 147,
      "outputs": [
        {
          "output_type": "stream",
          "name": "stdout",
          "text": [
            "[[2 3 4 5]\n",
            " [6 7 8 9]]\n"
          ]
        },
        {
          "output_type": "execute_result",
          "data": {
            "text/plain": [
              "array([[ 2,  4,  6,  8],\n",
              "       [ 6,  8, 10, 12]])"
            ]
          },
          "metadata": {},
          "execution_count": 147
        }
      ]
    },
    {
      "cell_type": "code",
      "source": [
        "M = np.ones((2, 3))\n",
        "a = np.arange(3)\n"
      ],
      "metadata": {
        "id": "sSdxSZPxb6JT"
      },
      "execution_count": 148,
      "outputs": []
    },
    {
      "cell_type": "code",
      "source": [
        "M + a"
      ],
      "metadata": {
        "colab": {
          "base_uri": "https://localhost:8080/"
        },
        "id": "bfwpA7oqb6Gm",
        "outputId": "d1a1dd3d-772d-4606-d173-34deaa0281bf"
      },
      "execution_count": 57,
      "outputs": [
        {
          "output_type": "execute_result",
          "data": {
            "text/plain": [
              "array([[1., 2., 3.],\n",
              "       [1., 2., 3.]])"
            ]
          },
          "metadata": {},
          "execution_count": 57
        }
      ]
    },
    {
      "cell_type": "code",
      "source": [
        "a[:, np.newaxis].shape"
      ],
      "metadata": {
        "colab": {
          "base_uri": "https://localhost:8080/"
        },
        "id": "Lsw2HaLHb6EU",
        "outputId": "4b481c5e-dcbf-4489-eff0-380469e195df"
      },
      "execution_count": 58,
      "outputs": [
        {
          "output_type": "execute_result",
          "data": {
            "text/plain": [
              "(3, 1)"
            ]
          },
          "metadata": {},
          "execution_count": 58
        }
      ]
    },
    {
      "cell_type": "code",
      "source": [
        "s = np.array([1,2,3,4,5,6])"
      ],
      "metadata": {
        "id": "Z1XbDxzajbfd"
      },
      "execution_count": 149,
      "outputs": []
    },
    {
      "cell_type": "code",
      "source": [
        "s = arr[:, np.newaxis]\n",
        "s\n"
      ],
      "metadata": {
        "colab": {
          "base_uri": "https://localhost:8080/"
        },
        "id": "PysPYkTrb6Bz",
        "outputId": "ec9fb961-ef4e-418f-d105-3e357e03dc14"
      },
      "execution_count": 150,
      "outputs": [
        {
          "output_type": "execute_result",
          "data": {
            "text/plain": [
              "array([[ 0.5],\n",
              "       [ 1.5],\n",
              "       [ 2.5],\n",
              "       [ 3.5],\n",
              "       [ 4.5],\n",
              "       [10.1]])"
            ]
          },
          "metadata": {},
          "execution_count": 150
        }
      ]
    },
    {
      "cell_type": "code",
      "source": [
        "s = arr[np.newaxis, :]\n",
        "s"
      ],
      "metadata": {
        "colab": {
          "base_uri": "https://localhost:8080/"
        },
        "id": "GCx3xNAnb5_P",
        "outputId": "3683f45d-8a97-4d53-c710-f3f1cf591822"
      },
      "execution_count": 64,
      "outputs": [
        {
          "output_type": "execute_result",
          "data": {
            "text/plain": [
              "array([[ 0.5,  1.5,  2.5,  3.5,  4.5, 10.1]])"
            ]
          },
          "metadata": {},
          "execution_count": 64
        }
      ]
    },
    {
      "cell_type": "code",
      "source": [
        "# Day 7: Weekly Review + Mini Project\n",
        "# ● Revise NumPy and core Python\n",
        "# ● Project: Simulate a basic ETL pipeline for IoT data using NumPy\n",
        "# Mini Project:\n",
        "# Simulate and process IoT sensor data (temperature, humidity, motion):\n",
        "# ● Generate 1000 entries with timestamps using NumPy.\n",
        "# ● Filter entries where temperature > 35 and motion detected.\n",
        "# ● Save to CSV.\n",
        "\n",
        "import numpy as np\n",
        "reading = 20\n",
        "\n",
        "temperature = np.random.uniform(10,30,reading)\n",
        "humidity = np.random.uniform(20,40,reading)\n",
        "motion_values = np.random.uniform(1,20,reading)\n",
        "\n",
        "\n",
        "print(temperature)\n",
        "print(humidity)\n",
        "print(motion_values)\n",
        "\n",
        "\n"
      ],
      "metadata": {
        "colab": {
          "base_uri": "https://localhost:8080/"
        },
        "id": "mCZ81JxXb57d",
        "outputId": "dabbc0a9-0376-4071-872b-d4def678c951"
      },
      "execution_count": 120,
      "outputs": [
        {
          "output_type": "stream",
          "name": "stdout",
          "text": [
            "[26.25616633 17.44301166 23.22086498 21.80541235 16.93747071 17.83877373\n",
            " 11.574599   14.92285668 28.70583952 21.49166785 28.3986351  24.71013073\n",
            " 13.39645216 22.44478103 11.62797945 22.46974597 13.83154227 25.64274217\n",
            " 17.99820284 22.57924983]\n",
            "[24.42820665 35.29113294 34.64106065 30.2278842  20.32685033 29.60930807\n",
            " 35.66045569 22.75163281 34.6058393  34.97364776 34.70814657 29.83602833\n",
            " 28.92414943 27.43949065 33.71960534 37.91697758 31.60004191 25.20112067\n",
            " 25.72588126 34.97706592]\n",
            "[11.08576626 10.74579134 10.40555016  4.46316407  9.65562721  5.43967692\n",
            "  2.08935123 19.66999597  9.97672427 13.97139774  8.45484192 11.46190559\n",
            " 17.19657156  8.7011913   1.93646148 13.75274568 10.86361361  1.57052107\n",
            " 14.76689401 16.77911606]\n"
          ]
        }
      ]
    },
    {
      "cell_type": "code",
      "source": [
        "current_date = np.datetime64('today', 'D')\n",
        "current_date"
      ],
      "metadata": {
        "colab": {
          "base_uri": "https://localhost:8080/"
        },
        "id": "4AJRDRRBb53R",
        "outputId": "683e6e92-4af4-4b9b-f61e-5ce365a2392f"
      },
      "execution_count": 111,
      "outputs": [
        {
          "output_type": "execute_result",
          "data": {
            "text/plain": [
              "np.datetime64('2025-07-15')"
            ]
          },
          "metadata": {},
          "execution_count": 111
        }
      ]
    },
    {
      "cell_type": "code",
      "source": [
        "import numpy as np\n",
        "\n",
        "arr1 = np.random.randint(1000,size = (1000,3))\n",
        "arr1"
      ],
      "metadata": {
        "colab": {
          "base_uri": "https://localhost:8080/"
        },
        "id": "IV4GOngsb5y8",
        "outputId": "2d7db116-b762-4f84-e0b2-3cfb5c715835"
      },
      "execution_count": 112,
      "outputs": [
        {
          "output_type": "execute_result",
          "data": {
            "text/plain": [
              "array([[ 36, 197, 478],\n",
              "       [112, 556, 674],\n",
              "       [477, 685, 330],\n",
              "       ...,\n",
              "       [203, 270,  45],\n",
              "       [501, 685, 877],\n",
              "       [664, 785,  21]])"
            ]
          },
          "metadata": {},
          "execution_count": 112
        }
      ]
    },
    {
      "cell_type": "code",
      "source": [
        "start_date = np.datetime64('today','D')\n"
      ],
      "metadata": {
        "id": "_70dNVK5sz0O"
      },
      "execution_count": 113,
      "outputs": []
    },
    {
      "cell_type": "markdown",
      "source": [],
      "metadata": {
        "id": "Jj2k7CtpASTs"
      }
    },
    {
      "cell_type": "code",
      "source": [
        "end_date = np.datetime64('2028-04-10','D')"
      ],
      "metadata": {
        "id": "Z7HrKNyHszwZ"
      },
      "execution_count": 94,
      "outputs": []
    },
    {
      "cell_type": "code",
      "source": [
        "\n",
        "start_datetime = np.datetime64('2025-07-15T00:00:00')\n",
        "\n",
        "timestamps = np.arange(start_datetime, start_datetime + np.timedelta64(1000, 'D'), dtype='datetime64[D]')\n",
        "\n",
        "print(timestamps)"
      ],
      "metadata": {
        "colab": {
          "base_uri": "https://localhost:8080/"
        },
        "id": "lxTgp4fX3zUI",
        "outputId": "05cd3794-0d79-464f-bcaa-0d3b42ccaf55"
      },
      "execution_count": 114,
      "outputs": [
        {
          "output_type": "stream",
          "name": "stdout",
          "text": [
            "['2025-07-15' '2025-07-16' '2025-07-17' '2025-07-18' '2025-07-19'\n",
            " '2025-07-20' '2025-07-21' '2025-07-22' '2025-07-23' '2025-07-24'\n",
            " '2025-07-25' '2025-07-26' '2025-07-27' '2025-07-28' '2025-07-29'\n",
            " '2025-07-30' '2025-07-31' '2025-08-01' '2025-08-02' '2025-08-03'\n",
            " '2025-08-04' '2025-08-05' '2025-08-06' '2025-08-07' '2025-08-08'\n",
            " '2025-08-09' '2025-08-10' '2025-08-11' '2025-08-12' '2025-08-13'\n",
            " '2025-08-14' '2025-08-15' '2025-08-16' '2025-08-17' '2025-08-18'\n",
            " '2025-08-19' '2025-08-20' '2025-08-21' '2025-08-22' '2025-08-23'\n",
            " '2025-08-24' '2025-08-25' '2025-08-26' '2025-08-27' '2025-08-28'\n",
            " '2025-08-29' '2025-08-30' '2025-08-31' '2025-09-01' '2025-09-02'\n",
            " '2025-09-03' '2025-09-04' '2025-09-05' '2025-09-06' '2025-09-07'\n",
            " '2025-09-08' '2025-09-09' '2025-09-10' '2025-09-11' '2025-09-12'\n",
            " '2025-09-13' '2025-09-14' '2025-09-15' '2025-09-16' '2025-09-17'\n",
            " '2025-09-18' '2025-09-19' '2025-09-20' '2025-09-21' '2025-09-22'\n",
            " '2025-09-23' '2025-09-24' '2025-09-25' '2025-09-26' '2025-09-27'\n",
            " '2025-09-28' '2025-09-29' '2025-09-30' '2025-10-01' '2025-10-02'\n",
            " '2025-10-03' '2025-10-04' '2025-10-05' '2025-10-06' '2025-10-07'\n",
            " '2025-10-08' '2025-10-09' '2025-10-10' '2025-10-11' '2025-10-12'\n",
            " '2025-10-13' '2025-10-14' '2025-10-15' '2025-10-16' '2025-10-17'\n",
            " '2025-10-18' '2025-10-19' '2025-10-20' '2025-10-21' '2025-10-22'\n",
            " '2025-10-23' '2025-10-24' '2025-10-25' '2025-10-26' '2025-10-27'\n",
            " '2025-10-28' '2025-10-29' '2025-10-30' '2025-10-31' '2025-11-01'\n",
            " '2025-11-02' '2025-11-03' '2025-11-04' '2025-11-05' '2025-11-06'\n",
            " '2025-11-07' '2025-11-08' '2025-11-09' '2025-11-10' '2025-11-11'\n",
            " '2025-11-12' '2025-11-13' '2025-11-14' '2025-11-15' '2025-11-16'\n",
            " '2025-11-17' '2025-11-18' '2025-11-19' '2025-11-20' '2025-11-21'\n",
            " '2025-11-22' '2025-11-23' '2025-11-24' '2025-11-25' '2025-11-26'\n",
            " '2025-11-27' '2025-11-28' '2025-11-29' '2025-11-30' '2025-12-01'\n",
            " '2025-12-02' '2025-12-03' '2025-12-04' '2025-12-05' '2025-12-06'\n",
            " '2025-12-07' '2025-12-08' '2025-12-09' '2025-12-10' '2025-12-11'\n",
            " '2025-12-12' '2025-12-13' '2025-12-14' '2025-12-15' '2025-12-16'\n",
            " '2025-12-17' '2025-12-18' '2025-12-19' '2025-12-20' '2025-12-21'\n",
            " '2025-12-22' '2025-12-23' '2025-12-24' '2025-12-25' '2025-12-26'\n",
            " '2025-12-27' '2025-12-28' '2025-12-29' '2025-12-30' '2025-12-31'\n",
            " '2026-01-01' '2026-01-02' '2026-01-03' '2026-01-04' '2026-01-05'\n",
            " '2026-01-06' '2026-01-07' '2026-01-08' '2026-01-09' '2026-01-10'\n",
            " '2026-01-11' '2026-01-12' '2026-01-13' '2026-01-14' '2026-01-15'\n",
            " '2026-01-16' '2026-01-17' '2026-01-18' '2026-01-19' '2026-01-20'\n",
            " '2026-01-21' '2026-01-22' '2026-01-23' '2026-01-24' '2026-01-25'\n",
            " '2026-01-26' '2026-01-27' '2026-01-28' '2026-01-29' '2026-01-30'\n",
            " '2026-01-31' '2026-02-01' '2026-02-02' '2026-02-03' '2026-02-04'\n",
            " '2026-02-05' '2026-02-06' '2026-02-07' '2026-02-08' '2026-02-09'\n",
            " '2026-02-10' '2026-02-11' '2026-02-12' '2026-02-13' '2026-02-14'\n",
            " '2026-02-15' '2026-02-16' '2026-02-17' '2026-02-18' '2026-02-19'\n",
            " '2026-02-20' '2026-02-21' '2026-02-22' '2026-02-23' '2026-02-24'\n",
            " '2026-02-25' '2026-02-26' '2026-02-27' '2026-02-28' '2026-03-01'\n",
            " '2026-03-02' '2026-03-03' '2026-03-04' '2026-03-05' '2026-03-06'\n",
            " '2026-03-07' '2026-03-08' '2026-03-09' '2026-03-10' '2026-03-11'\n",
            " '2026-03-12' '2026-03-13' '2026-03-14' '2026-03-15' '2026-03-16'\n",
            " '2026-03-17' '2026-03-18' '2026-03-19' '2026-03-20' '2026-03-21'\n",
            " '2026-03-22' '2026-03-23' '2026-03-24' '2026-03-25' '2026-03-26'\n",
            " '2026-03-27' '2026-03-28' '2026-03-29' '2026-03-30' '2026-03-31'\n",
            " '2026-04-01' '2026-04-02' '2026-04-03' '2026-04-04' '2026-04-05'\n",
            " '2026-04-06' '2026-04-07' '2026-04-08' '2026-04-09' '2026-04-10'\n",
            " '2026-04-11' '2026-04-12' '2026-04-13' '2026-04-14' '2026-04-15'\n",
            " '2026-04-16' '2026-04-17' '2026-04-18' '2026-04-19' '2026-04-20'\n",
            " '2026-04-21' '2026-04-22' '2026-04-23' '2026-04-24' '2026-04-25'\n",
            " '2026-04-26' '2026-04-27' '2026-04-28' '2026-04-29' '2026-04-30'\n",
            " '2026-05-01' '2026-05-02' '2026-05-03' '2026-05-04' '2026-05-05'\n",
            " '2026-05-06' '2026-05-07' '2026-05-08' '2026-05-09' '2026-05-10'\n",
            " '2026-05-11' '2026-05-12' '2026-05-13' '2026-05-14' '2026-05-15'\n",
            " '2026-05-16' '2026-05-17' '2026-05-18' '2026-05-19' '2026-05-20'\n",
            " '2026-05-21' '2026-05-22' '2026-05-23' '2026-05-24' '2026-05-25'\n",
            " '2026-05-26' '2026-05-27' '2026-05-28' '2026-05-29' '2026-05-30'\n",
            " '2026-05-31' '2026-06-01' '2026-06-02' '2026-06-03' '2026-06-04'\n",
            " '2026-06-05' '2026-06-06' '2026-06-07' '2026-06-08' '2026-06-09'\n",
            " '2026-06-10' '2026-06-11' '2026-06-12' '2026-06-13' '2026-06-14'\n",
            " '2026-06-15' '2026-06-16' '2026-06-17' '2026-06-18' '2026-06-19'\n",
            " '2026-06-20' '2026-06-21' '2026-06-22' '2026-06-23' '2026-06-24'\n",
            " '2026-06-25' '2026-06-26' '2026-06-27' '2026-06-28' '2026-06-29'\n",
            " '2026-06-30' '2026-07-01' '2026-07-02' '2026-07-03' '2026-07-04'\n",
            " '2026-07-05' '2026-07-06' '2026-07-07' '2026-07-08' '2026-07-09'\n",
            " '2026-07-10' '2026-07-11' '2026-07-12' '2026-07-13' '2026-07-14'\n",
            " '2026-07-15' '2026-07-16' '2026-07-17' '2026-07-18' '2026-07-19'\n",
            " '2026-07-20' '2026-07-21' '2026-07-22' '2026-07-23' '2026-07-24'\n",
            " '2026-07-25' '2026-07-26' '2026-07-27' '2026-07-28' '2026-07-29'\n",
            " '2026-07-30' '2026-07-31' '2026-08-01' '2026-08-02' '2026-08-03'\n",
            " '2026-08-04' '2026-08-05' '2026-08-06' '2026-08-07' '2026-08-08'\n",
            " '2026-08-09' '2026-08-10' '2026-08-11' '2026-08-12' '2026-08-13'\n",
            " '2026-08-14' '2026-08-15' '2026-08-16' '2026-08-17' '2026-08-18'\n",
            " '2026-08-19' '2026-08-20' '2026-08-21' '2026-08-22' '2026-08-23'\n",
            " '2026-08-24' '2026-08-25' '2026-08-26' '2026-08-27' '2026-08-28'\n",
            " '2026-08-29' '2026-08-30' '2026-08-31' '2026-09-01' '2026-09-02'\n",
            " '2026-09-03' '2026-09-04' '2026-09-05' '2026-09-06' '2026-09-07'\n",
            " '2026-09-08' '2026-09-09' '2026-09-10' '2026-09-11' '2026-09-12'\n",
            " '2026-09-13' '2026-09-14' '2026-09-15' '2026-09-16' '2026-09-17'\n",
            " '2026-09-18' '2026-09-19' '2026-09-20' '2026-09-21' '2026-09-22'\n",
            " '2026-09-23' '2026-09-24' '2026-09-25' '2026-09-26' '2026-09-27'\n",
            " '2026-09-28' '2026-09-29' '2026-09-30' '2026-10-01' '2026-10-02'\n",
            " '2026-10-03' '2026-10-04' '2026-10-05' '2026-10-06' '2026-10-07'\n",
            " '2026-10-08' '2026-10-09' '2026-10-10' '2026-10-11' '2026-10-12'\n",
            " '2026-10-13' '2026-10-14' '2026-10-15' '2026-10-16' '2026-10-17'\n",
            " '2026-10-18' '2026-10-19' '2026-10-20' '2026-10-21' '2026-10-22'\n",
            " '2026-10-23' '2026-10-24' '2026-10-25' '2026-10-26' '2026-10-27'\n",
            " '2026-10-28' '2026-10-29' '2026-10-30' '2026-10-31' '2026-11-01'\n",
            " '2026-11-02' '2026-11-03' '2026-11-04' '2026-11-05' '2026-11-06'\n",
            " '2026-11-07' '2026-11-08' '2026-11-09' '2026-11-10' '2026-11-11'\n",
            " '2026-11-12' '2026-11-13' '2026-11-14' '2026-11-15' '2026-11-16'\n",
            " '2026-11-17' '2026-11-18' '2026-11-19' '2026-11-20' '2026-11-21'\n",
            " '2026-11-22' '2026-11-23' '2026-11-24' '2026-11-25' '2026-11-26'\n",
            " '2026-11-27' '2026-11-28' '2026-11-29' '2026-11-30' '2026-12-01'\n",
            " '2026-12-02' '2026-12-03' '2026-12-04' '2026-12-05' '2026-12-06'\n",
            " '2026-12-07' '2026-12-08' '2026-12-09' '2026-12-10' '2026-12-11'\n",
            " '2026-12-12' '2026-12-13' '2026-12-14' '2026-12-15' '2026-12-16'\n",
            " '2026-12-17' '2026-12-18' '2026-12-19' '2026-12-20' '2026-12-21'\n",
            " '2026-12-22' '2026-12-23' '2026-12-24' '2026-12-25' '2026-12-26'\n",
            " '2026-12-27' '2026-12-28' '2026-12-29' '2026-12-30' '2026-12-31'\n",
            " '2027-01-01' '2027-01-02' '2027-01-03' '2027-01-04' '2027-01-05'\n",
            " '2027-01-06' '2027-01-07' '2027-01-08' '2027-01-09' '2027-01-10'\n",
            " '2027-01-11' '2027-01-12' '2027-01-13' '2027-01-14' '2027-01-15'\n",
            " '2027-01-16' '2027-01-17' '2027-01-18' '2027-01-19' '2027-01-20'\n",
            " '2027-01-21' '2027-01-22' '2027-01-23' '2027-01-24' '2027-01-25'\n",
            " '2027-01-26' '2027-01-27' '2027-01-28' '2027-01-29' '2027-01-30'\n",
            " '2027-01-31' '2027-02-01' '2027-02-02' '2027-02-03' '2027-02-04'\n",
            " '2027-02-05' '2027-02-06' '2027-02-07' '2027-02-08' '2027-02-09'\n",
            " '2027-02-10' '2027-02-11' '2027-02-12' '2027-02-13' '2027-02-14'\n",
            " '2027-02-15' '2027-02-16' '2027-02-17' '2027-02-18' '2027-02-19'\n",
            " '2027-02-20' '2027-02-21' '2027-02-22' '2027-02-23' '2027-02-24'\n",
            " '2027-02-25' '2027-02-26' '2027-02-27' '2027-02-28' '2027-03-01'\n",
            " '2027-03-02' '2027-03-03' '2027-03-04' '2027-03-05' '2027-03-06'\n",
            " '2027-03-07' '2027-03-08' '2027-03-09' '2027-03-10' '2027-03-11'\n",
            " '2027-03-12' '2027-03-13' '2027-03-14' '2027-03-15' '2027-03-16'\n",
            " '2027-03-17' '2027-03-18' '2027-03-19' '2027-03-20' '2027-03-21'\n",
            " '2027-03-22' '2027-03-23' '2027-03-24' '2027-03-25' '2027-03-26'\n",
            " '2027-03-27' '2027-03-28' '2027-03-29' '2027-03-30' '2027-03-31'\n",
            " '2027-04-01' '2027-04-02' '2027-04-03' '2027-04-04' '2027-04-05'\n",
            " '2027-04-06' '2027-04-07' '2027-04-08' '2027-04-09' '2027-04-10'\n",
            " '2027-04-11' '2027-04-12' '2027-04-13' '2027-04-14' '2027-04-15'\n",
            " '2027-04-16' '2027-04-17' '2027-04-18' '2027-04-19' '2027-04-20'\n",
            " '2027-04-21' '2027-04-22' '2027-04-23' '2027-04-24' '2027-04-25'\n",
            " '2027-04-26' '2027-04-27' '2027-04-28' '2027-04-29' '2027-04-30'\n",
            " '2027-05-01' '2027-05-02' '2027-05-03' '2027-05-04' '2027-05-05'\n",
            " '2027-05-06' '2027-05-07' '2027-05-08' '2027-05-09' '2027-05-10'\n",
            " '2027-05-11' '2027-05-12' '2027-05-13' '2027-05-14' '2027-05-15'\n",
            " '2027-05-16' '2027-05-17' '2027-05-18' '2027-05-19' '2027-05-20'\n",
            " '2027-05-21' '2027-05-22' '2027-05-23' '2027-05-24' '2027-05-25'\n",
            " '2027-05-26' '2027-05-27' '2027-05-28' '2027-05-29' '2027-05-30'\n",
            " '2027-05-31' '2027-06-01' '2027-06-02' '2027-06-03' '2027-06-04'\n",
            " '2027-06-05' '2027-06-06' '2027-06-07' '2027-06-08' '2027-06-09'\n",
            " '2027-06-10' '2027-06-11' '2027-06-12' '2027-06-13' '2027-06-14'\n",
            " '2027-06-15' '2027-06-16' '2027-06-17' '2027-06-18' '2027-06-19'\n",
            " '2027-06-20' '2027-06-21' '2027-06-22' '2027-06-23' '2027-06-24'\n",
            " '2027-06-25' '2027-06-26' '2027-06-27' '2027-06-28' '2027-06-29'\n",
            " '2027-06-30' '2027-07-01' '2027-07-02' '2027-07-03' '2027-07-04'\n",
            " '2027-07-05' '2027-07-06' '2027-07-07' '2027-07-08' '2027-07-09'\n",
            " '2027-07-10' '2027-07-11' '2027-07-12' '2027-07-13' '2027-07-14'\n",
            " '2027-07-15' '2027-07-16' '2027-07-17' '2027-07-18' '2027-07-19'\n",
            " '2027-07-20' '2027-07-21' '2027-07-22' '2027-07-23' '2027-07-24'\n",
            " '2027-07-25' '2027-07-26' '2027-07-27' '2027-07-28' '2027-07-29'\n",
            " '2027-07-30' '2027-07-31' '2027-08-01' '2027-08-02' '2027-08-03'\n",
            " '2027-08-04' '2027-08-05' '2027-08-06' '2027-08-07' '2027-08-08'\n",
            " '2027-08-09' '2027-08-10' '2027-08-11' '2027-08-12' '2027-08-13'\n",
            " '2027-08-14' '2027-08-15' '2027-08-16' '2027-08-17' '2027-08-18'\n",
            " '2027-08-19' '2027-08-20' '2027-08-21' '2027-08-22' '2027-08-23'\n",
            " '2027-08-24' '2027-08-25' '2027-08-26' '2027-08-27' '2027-08-28'\n",
            " '2027-08-29' '2027-08-30' '2027-08-31' '2027-09-01' '2027-09-02'\n",
            " '2027-09-03' '2027-09-04' '2027-09-05' '2027-09-06' '2027-09-07'\n",
            " '2027-09-08' '2027-09-09' '2027-09-10' '2027-09-11' '2027-09-12'\n",
            " '2027-09-13' '2027-09-14' '2027-09-15' '2027-09-16' '2027-09-17'\n",
            " '2027-09-18' '2027-09-19' '2027-09-20' '2027-09-21' '2027-09-22'\n",
            " '2027-09-23' '2027-09-24' '2027-09-25' '2027-09-26' '2027-09-27'\n",
            " '2027-09-28' '2027-09-29' '2027-09-30' '2027-10-01' '2027-10-02'\n",
            " '2027-10-03' '2027-10-04' '2027-10-05' '2027-10-06' '2027-10-07'\n",
            " '2027-10-08' '2027-10-09' '2027-10-10' '2027-10-11' '2027-10-12'\n",
            " '2027-10-13' '2027-10-14' '2027-10-15' '2027-10-16' '2027-10-17'\n",
            " '2027-10-18' '2027-10-19' '2027-10-20' '2027-10-21' '2027-10-22'\n",
            " '2027-10-23' '2027-10-24' '2027-10-25' '2027-10-26' '2027-10-27'\n",
            " '2027-10-28' '2027-10-29' '2027-10-30' '2027-10-31' '2027-11-01'\n",
            " '2027-11-02' '2027-11-03' '2027-11-04' '2027-11-05' '2027-11-06'\n",
            " '2027-11-07' '2027-11-08' '2027-11-09' '2027-11-10' '2027-11-11'\n",
            " '2027-11-12' '2027-11-13' '2027-11-14' '2027-11-15' '2027-11-16'\n",
            " '2027-11-17' '2027-11-18' '2027-11-19' '2027-11-20' '2027-11-21'\n",
            " '2027-11-22' '2027-11-23' '2027-11-24' '2027-11-25' '2027-11-26'\n",
            " '2027-11-27' '2027-11-28' '2027-11-29' '2027-11-30' '2027-12-01'\n",
            " '2027-12-02' '2027-12-03' '2027-12-04' '2027-12-05' '2027-12-06'\n",
            " '2027-12-07' '2027-12-08' '2027-12-09' '2027-12-10' '2027-12-11'\n",
            " '2027-12-12' '2027-12-13' '2027-12-14' '2027-12-15' '2027-12-16'\n",
            " '2027-12-17' '2027-12-18' '2027-12-19' '2027-12-20' '2027-12-21'\n",
            " '2027-12-22' '2027-12-23' '2027-12-24' '2027-12-25' '2027-12-26'\n",
            " '2027-12-27' '2027-12-28' '2027-12-29' '2027-12-30' '2027-12-31'\n",
            " '2028-01-01' '2028-01-02' '2028-01-03' '2028-01-04' '2028-01-05'\n",
            " '2028-01-06' '2028-01-07' '2028-01-08' '2028-01-09' '2028-01-10'\n",
            " '2028-01-11' '2028-01-12' '2028-01-13' '2028-01-14' '2028-01-15'\n",
            " '2028-01-16' '2028-01-17' '2028-01-18' '2028-01-19' '2028-01-20'\n",
            " '2028-01-21' '2028-01-22' '2028-01-23' '2028-01-24' '2028-01-25'\n",
            " '2028-01-26' '2028-01-27' '2028-01-28' '2028-01-29' '2028-01-30'\n",
            " '2028-01-31' '2028-02-01' '2028-02-02' '2028-02-03' '2028-02-04'\n",
            " '2028-02-05' '2028-02-06' '2028-02-07' '2028-02-08' '2028-02-09'\n",
            " '2028-02-10' '2028-02-11' '2028-02-12' '2028-02-13' '2028-02-14'\n",
            " '2028-02-15' '2028-02-16' '2028-02-17' '2028-02-18' '2028-02-19'\n",
            " '2028-02-20' '2028-02-21' '2028-02-22' '2028-02-23' '2028-02-24'\n",
            " '2028-02-25' '2028-02-26' '2028-02-27' '2028-02-28' '2028-02-29'\n",
            " '2028-03-01' '2028-03-02' '2028-03-03' '2028-03-04' '2028-03-05'\n",
            " '2028-03-06' '2028-03-07' '2028-03-08' '2028-03-09' '2028-03-10'\n",
            " '2028-03-11' '2028-03-12' '2028-03-13' '2028-03-14' '2028-03-15'\n",
            " '2028-03-16' '2028-03-17' '2028-03-18' '2028-03-19' '2028-03-20'\n",
            " '2028-03-21' '2028-03-22' '2028-03-23' '2028-03-24' '2028-03-25'\n",
            " '2028-03-26' '2028-03-27' '2028-03-28' '2028-03-29' '2028-03-30'\n",
            " '2028-03-31' '2028-04-01' '2028-04-02' '2028-04-03' '2028-04-04'\n",
            " '2028-04-05' '2028-04-06' '2028-04-07' '2028-04-08' '2028-04-09']\n"
          ]
        }
      ]
    },
    {
      "cell_type": "code",
      "source": [],
      "metadata": {
        "id": "ninoeoni4FtJ"
      },
      "execution_count": 108,
      "outputs": []
    },
    {
      "cell_type": "code",
      "source": [],
      "metadata": {
        "id": "pa8ruZUusztX"
      },
      "execution_count": 150,
      "outputs": []
    },
    {
      "cell_type": "code",
      "source": [],
      "metadata": {
        "id": "HGQS9faKszqg"
      },
      "execution_count": 150,
      "outputs": []
    },
    {
      "cell_type": "code",
      "source": [],
      "metadata": {
        "id": "c0ZyfSyLszkb"
      },
      "execution_count": 150,
      "outputs": []
    },
    {
      "cell_type": "code",
      "source": [
        "import numpy as np\n",
        "import datetime\n",
        "\n",
        "temperature_data = np.random.normal(loc=30, scale=5, size=1000)\n",
        "\n",
        "\n",
        "humidity_data = np.random.normal(loc=60, scale=10, size=1000)\n",
        "\n",
        "\n",
        "motion_data = np.random.choice([0, 1], size=1000)\n",
        "\n",
        "\n",
        "start_time = np.datetime64('2025-07-15T00:00:00')\n",
        "timestamps = np.arange(start_time, start_time + np.timedelta64(1000, 's'), np.timedelta64(1, 's'))\n",
        "\n",
        "iot_data = np.array(list(zip(timestamps, temperature_data, humidity_data, motion_data)),\n",
        "                    dtype=[('timestamp', 'datetime64[s]'), ('temperature', 'f4'), ('humidity', 'f4'), ('motion', 'i4')])\n",
        "\n",
        "print(\"Generated IoT Data Sample (First 5 Entries):\")\n",
        "print(iot_data[:5])\n",
        "\n",
        "\n",
        "\n",
        "filtered_data = iot_data[(iot_data['temperature'] > 35) & (iot_data['motion'] == 1)]\n",
        "\n",
        "print(\"\\nFiltered IoT Data (Temperature > 35 and Motion Detected):\")\n",
        "print(filtered_data)\n",
        "print(f\"\\nNumber of filtered entries: {len(filtered_data)}\")"
      ],
      "metadata": {
        "colab": {
          "base_uri": "https://localhost:8080/"
        },
        "id": "NIYb9r8-szfU",
        "outputId": "0cbefeb1-8cae-4254-8b88-12a548131009"
      },
      "execution_count": 126,
      "outputs": [
        {
          "output_type": "stream",
          "name": "stdout",
          "text": [
            "Generated IoT Data Sample (First 5 Entries):\n",
            "[('2025-07-15T00:00:00', 28.660604, 56.956703, 0)\n",
            " ('2025-07-15T00:00:01', 27.040167, 78.38772 , 1)\n",
            " ('2025-07-15T00:00:02', 34.78913 , 65.79672 , 0)\n",
            " ('2025-07-15T00:00:03', 33.903687, 58.01242 , 0)\n",
            " ('2025-07-15T00:00:04', 29.947084, 49.901093, 0)]\n",
            "\n",
            "Filtered IoT Data (Temperature > 35 and Motion Detected):\n",
            "[('2025-07-15T00:00:05', 36.546124, 57.62178 , 1)\n",
            " ('2025-07-15T00:00:13', 35.743748, 47.522335, 1)\n",
            " ('2025-07-15T00:00:16', 36.8137  , 58.683914, 1)\n",
            " ('2025-07-15T00:00:22', 35.461926, 37.942722, 1)\n",
            " ('2025-07-15T00:00:27', 36.18277 , 60.78073 , 1)\n",
            " ('2025-07-15T00:00:31', 35.916824, 48.448906, 1)\n",
            " ('2025-07-15T00:00:39', 35.64528 , 65.89451 , 1)\n",
            " ('2025-07-15T00:00:48', 41.677624, 42.66256 , 1)\n",
            " ('2025-07-15T00:01:32', 35.060425, 58.60383 , 1)\n",
            " ('2025-07-15T00:01:44', 36.28784 , 70.65935 , 1)\n",
            " ('2025-07-15T00:01:45', 40.599136, 57.4694  , 1)\n",
            " ('2025-07-15T00:01:58', 39.666824, 74.455   , 1)\n",
            " ('2025-07-15T00:01:59', 37.83188 , 61.882473, 1)\n",
            " ('2025-07-15T00:02:00', 35.38351 , 69.98692 , 1)\n",
            " ('2025-07-15T00:02:11', 38.59471 , 55.197655, 1)\n",
            " ('2025-07-15T00:02:32', 37.22305 , 70.47491 , 1)\n",
            " ('2025-07-15T00:02:43', 37.43558 , 52.66663 , 1)\n",
            " ('2025-07-15T00:02:54', 42.289104, 89.39199 , 1)\n",
            " ('2025-07-15T00:02:56', 38.66237 , 59.064625, 1)\n",
            " ('2025-07-15T00:02:59', 36.151386, 44.21919 , 1)\n",
            " ('2025-07-15T00:03:06', 36.346825, 52.59312 , 1)\n",
            " ('2025-07-15T00:03:08', 38.713   , 57.810604, 1)\n",
            " ('2025-07-15T00:03:09', 36.389385, 50.623478, 1)\n",
            " ('2025-07-15T00:03:23', 39.363415, 57.45632 , 1)\n",
            " ('2025-07-15T00:03:28', 39.20658 , 65.59584 , 1)\n",
            " ('2025-07-15T00:03:58', 41.396637, 61.675537, 1)\n",
            " ('2025-07-15T00:04:19', 35.553112, 67.49861 , 1)\n",
            " ('2025-07-15T00:04:21', 37.38643 , 61.711914, 1)\n",
            " ('2025-07-15T00:04:24', 36.41075 , 60.78761 , 1)\n",
            " ('2025-07-15T00:04:28', 38.72208 , 54.706387, 1)\n",
            " ('2025-07-15T00:04:34', 38.788345, 55.32204 , 1)\n",
            " ('2025-07-15T00:05:11', 36.684616, 63.91172 , 1)\n",
            " ('2025-07-15T00:05:25', 38.30003 , 64.83248 , 1)\n",
            " ('2025-07-15T00:05:33', 35.184   , 51.827984, 1)\n",
            " ('2025-07-15T00:05:46', 36.127842, 43.209743, 1)\n",
            " ('2025-07-15T00:05:56', 36.34628 , 43.1764  , 1)\n",
            " ('2025-07-15T00:06:03', 39.84731 , 68.18066 , 1)\n",
            " ('2025-07-15T00:06:16', 36.82468 , 44.22026 , 1)\n",
            " ('2025-07-15T00:06:29', 36.34086 , 47.063507, 1)\n",
            " ('2025-07-15T00:06:49', 36.094753, 78.12092 , 1)\n",
            " ('2025-07-15T00:06:53', 38.317936, 56.708134, 1)\n",
            " ('2025-07-15T00:07:14', 38.454746, 47.447178, 1)\n",
            " ('2025-07-15T00:07:27', 35.028152, 83.81367 , 1)\n",
            " ('2025-07-15T00:07:49', 35.287548, 58.47624 , 1)\n",
            " ('2025-07-15T00:08:27', 36.090576, 55.83798 , 1)\n",
            " ('2025-07-15T00:08:45', 38.132454, 61.072964, 1)\n",
            " ('2025-07-15T00:08:54', 36.344086, 54.784084, 1)\n",
            " ('2025-07-15T00:09:11', 35.904716, 58.069393, 1)\n",
            " ('2025-07-15T00:09:14', 36.120476, 62.4254  , 1)\n",
            " ('2025-07-15T00:09:15', 35.04711 , 74.03955 , 1)\n",
            " ('2025-07-15T00:09:39', 38.94625 , 46.41782 , 1)\n",
            " ('2025-07-15T00:09:40', 38.468765, 53.297523, 1)\n",
            " ('2025-07-15T00:09:45', 36.517765, 67.79666 , 1)\n",
            " ('2025-07-15T00:09:52', 37.04377 , 48.264675, 1)\n",
            " ('2025-07-15T00:10:25', 36.37715 , 43.267174, 1)\n",
            " ('2025-07-15T00:10:30', 38.751366, 79.462524, 1)\n",
            " ('2025-07-15T00:10:31', 35.212875, 66.93157 , 1)\n",
            " ('2025-07-15T00:10:44', 41.81303 , 62.378956, 1)\n",
            " ('2025-07-15T00:10:57', 35.370647, 63.47596 , 1)\n",
            " ('2025-07-15T00:11:10', 36.16697 , 66.623604, 1)\n",
            " ('2025-07-15T00:11:16', 39.129936, 65.754585, 1)\n",
            " ('2025-07-15T00:11:17', 35.068607, 52.2783  , 1)\n",
            " ('2025-07-15T00:11:21', 41.60487 , 60.06505 , 1)\n",
            " ('2025-07-15T00:11:50', 36.445778, 72.76441 , 1)\n",
            " ('2025-07-15T00:12:28', 35.01265 , 58.286205, 1)\n",
            " ('2025-07-15T00:12:36', 37.378693, 66.07319 , 1)\n",
            " ('2025-07-15T00:12:39', 41.493137, 64.06077 , 1)\n",
            " ('2025-07-15T00:12:50', 36.307915, 66.800415, 1)\n",
            " ('2025-07-15T00:13:13', 35.3083  , 61.552418, 1)\n",
            " ('2025-07-15T00:13:23', 39.97853 , 40.819233, 1)\n",
            " ('2025-07-15T00:13:51', 36.93438 , 56.92777 , 1)\n",
            " ('2025-07-15T00:13:56', 39.407753, 58.896492, 1)\n",
            " ('2025-07-15T00:14:04', 39.13832 , 55.704826, 1)\n",
            " ('2025-07-15T00:14:33', 36.336494, 53.08372 , 1)\n",
            " ('2025-07-15T00:14:40', 37.451656, 36.090313, 1)\n",
            " ('2025-07-15T00:14:53', 37.76658 , 66.11963 , 1)\n",
            " ('2025-07-15T00:15:05', 36.29318 , 69.41433 , 1)\n",
            " ('2025-07-15T00:15:09', 37.147453, 54.92295 , 1)\n",
            " ('2025-07-15T00:15:17', 37.69255 , 51.480785, 1)\n",
            " ('2025-07-15T00:15:19', 37.3886  , 68.56517 , 1)\n",
            " ('2025-07-15T00:15:39', 37.43931 , 52.152157, 1)\n",
            " ('2025-07-15T00:15:47', 37.767216, 61.307873, 1)\n",
            " ('2025-07-15T00:16:01', 38.445274, 49.233856, 1)\n",
            " ('2025-07-15T00:16:03', 37.246456, 69.845604, 1)\n",
            " ('2025-07-15T00:16:14', 36.482933, 70.18379 , 1)\n",
            " ('2025-07-15T00:16:18', 35.100605, 75.379364, 1)\n",
            " ('2025-07-15T00:16:26', 35.864998, 58.164223, 1)]\n",
            "\n",
            "Number of filtered entries: 87\n"
          ]
        }
      ]
    },
    {
      "cell_type": "code",
      "source": [],
      "metadata": {
        "id": "QSpEUZppszb2"
      },
      "execution_count": null,
      "outputs": []
    }
  ]
}
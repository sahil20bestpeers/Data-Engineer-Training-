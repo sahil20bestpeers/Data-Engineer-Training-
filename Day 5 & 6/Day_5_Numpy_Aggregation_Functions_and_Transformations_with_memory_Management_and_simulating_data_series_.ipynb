{
  "nbformat": 4,
  "nbformat_minor": 0,
  "metadata": {
    "colab": {
      "provenance": []
    },
    "kernelspec": {
      "name": "python3",
      "display_name": "Python 3"
    },
    "language_info": {
      "name": "python"
    }
  },
  "cells": [
    {
      "cell_type": "code",
      "execution_count": 11,
      "metadata": {
        "colab": {
          "base_uri": "https://localhost:8080/"
        },
        "id": "-KAwUdlJe05m",
        "outputId": "2457fa2d-322e-412f-a276-7699ddf4584f"
      },
      "outputs": [
        {
          "output_type": "execute_result",
          "data": {
            "text/plain": [
              "np.float64(5.5)"
            ]
          },
          "metadata": {},
          "execution_count": 11
        }
      ],
      "source": [
        "import numpy as np\n",
        "\n",
        "\n",
        "# Aggregating functions and Transformation\n",
        "a = np.array([1,2,3,4,5,6,7,8,9,10])\n",
        "mean_avg = np.mean(a)\n",
        "mean_avg"
      ]
    },
    {
      "cell_type": "code",
      "source": [
        "b = np.array([[1,2,3],[4,5,6]])\n",
        "b\n",
        "ans_matrix = np.mean(b,axis = 0)\n",
        "ans_matrix"
      ],
      "metadata": {
        "colab": {
          "base_uri": "https://localhost:8080/"
        },
        "id": "j02BpVjlhLBQ",
        "outputId": "822b7b13-a9c9-4018-9f61-99dd9e92a04c"
      },
      "execution_count": 13,
      "outputs": [
        {
          "output_type": "execute_result",
          "data": {
            "text/plain": [
              "array([2.5, 3.5, 4.5])"
            ]
          },
          "metadata": {},
          "execution_count": 13
        }
      ]
    },
    {
      "cell_type": "code",
      "source": [
        "ans_matrix = np.sum(b,axis = 0)\n",
        "ans_matrix"
      ],
      "metadata": {
        "colab": {
          "base_uri": "https://localhost:8080/"
        },
        "id": "PUGNjqHGhK-N",
        "outputId": "8eb04f7e-ba50-4b65-f504-a18d080bbeee"
      },
      "execution_count": 17,
      "outputs": [
        {
          "output_type": "execute_result",
          "data": {
            "text/plain": [
              "array([5, 7, 9])"
            ]
          },
          "metadata": {},
          "execution_count": 17
        }
      ]
    },
    {
      "cell_type": "code",
      "source": [
        "b"
      ],
      "metadata": {
        "colab": {
          "base_uri": "https://localhost:8080/"
        },
        "id": "7o3wycoXhK0D",
        "outputId": "4a3ae3a9-0ded-45dd-82c0-f5c42f08a782"
      },
      "execution_count": 15,
      "outputs": [
        {
          "output_type": "execute_result",
          "data": {
            "text/plain": [
              "array([[1, 2, 3],\n",
              "       [4, 5, 6]])"
            ]
          },
          "metadata": {},
          "execution_count": 15
        }
      ]
    },
    {
      "cell_type": "code",
      "source": [
        "ans_matrix = np.std(b,axis=0)\n",
        "ans_matrix"
      ],
      "metadata": {
        "colab": {
          "base_uri": "https://localhost:8080/"
        },
        "id": "sHEjEGzShKwY",
        "outputId": "3ee5c4c6-55ea-4b0a-de73-dabca6120315"
      },
      "execution_count": 20,
      "outputs": [
        {
          "output_type": "execute_result",
          "data": {
            "text/plain": [
              "array([1.5, 1.5, 1.5])"
            ]
          },
          "metadata": {},
          "execution_count": 20
        }
      ]
    },
    {
      "cell_type": "code",
      "source": [
        "max_matrix = np.max(b,axis=0)\n",
        "max_matrix"
      ],
      "metadata": {
        "colab": {
          "base_uri": "https://localhost:8080/"
        },
        "id": "GsDvRlF2hKtL",
        "outputId": "e2c2e206-110d-4367-cbb8-016e203d7474"
      },
      "execution_count": 21,
      "outputs": [
        {
          "output_type": "execute_result",
          "data": {
            "text/plain": [
              "array([4, 5, 6])"
            ]
          },
          "metadata": {},
          "execution_count": 21
        }
      ]
    },
    {
      "cell_type": "code",
      "source": [
        "min_matrix = np.min(b,axis = 1)\n",
        "min_matrix"
      ],
      "metadata": {
        "colab": {
          "base_uri": "https://localhost:8080/"
        },
        "id": "Adcu-WJYhKp6",
        "outputId": "96bee3fa-f219-47f8-9500-e3fe8c19d956"
      },
      "execution_count": 22,
      "outputs": [
        {
          "output_type": "execute_result",
          "data": {
            "text/plain": [
              "array([1, 4])"
            ]
          },
          "metadata": {},
          "execution_count": 22
        }
      ]
    },
    {
      "cell_type": "code",
      "source": [
        "prod_matrix = np.prod(b,axis = 0)\n",
        "prod_matrix"
      ],
      "metadata": {
        "colab": {
          "base_uri": "https://localhost:8080/"
        },
        "id": "kSfJ1IuvhKm7",
        "outputId": "a6a68bd3-4a6a-489d-a3f2-8e72c9aba4b2"
      },
      "execution_count": 23,
      "outputs": [
        {
          "output_type": "execute_result",
          "data": {
            "text/plain": [
              "array([ 4, 10, 18])"
            ]
          },
          "metadata": {},
          "execution_count": 23
        }
      ]
    },
    {
      "cell_type": "code",
      "source": [
        "prod_matrix = np.prod(b,axis = 1)\n",
        "prod_matrix"
      ],
      "metadata": {
        "colab": {
          "base_uri": "https://localhost:8080/"
        },
        "id": "fFs2427whKk6",
        "outputId": "2fb6bcf7-6cfd-4d6c-a1ca-f417c0b139a6"
      },
      "execution_count": 24,
      "outputs": [
        {
          "output_type": "execute_result",
          "data": {
            "text/plain": [
              "array([  6, 120])"
            ]
          },
          "metadata": {},
          "execution_count": 24
        }
      ]
    },
    {
      "cell_type": "code",
      "source": [
        "per_matrix = np.percentile(b,100,axis = 0)\n",
        "per_matrix"
      ],
      "metadata": {
        "colab": {
          "base_uri": "https://localhost:8080/"
        },
        "id": "fMl3jCHEhKgy",
        "outputId": "474c80d6-0f66-4be0-a50e-ba6bcd074887"
      },
      "execution_count": 45,
      "outputs": [
        {
          "output_type": "execute_result",
          "data": {
            "text/plain": [
              "array([4., 5., 6.])"
            ]
          },
          "metadata": {},
          "execution_count": 45
        }
      ]
    },
    {
      "cell_type": "code",
      "source": [
        "arg_min_matrix =  np.argmin(b,axis = 0)\n",
        "arg_min_matrix"
      ],
      "metadata": {
        "colab": {
          "base_uri": "https://localhost:8080/"
        },
        "id": "MsgkoTE9hKdl",
        "outputId": "e9f82899-00ce-4c88-d5b2-7f5ce89dddc0"
      },
      "execution_count": 30,
      "outputs": [
        {
          "output_type": "execute_result",
          "data": {
            "text/plain": [
              "array([0, 0, 0])"
            ]
          },
          "metadata": {},
          "execution_count": 30
        }
      ]
    },
    {
      "cell_type": "code",
      "source": [
        "arg_max_matrix =  np.argmax(b,axis = 0)\n",
        "arg_max_matrix"
      ],
      "metadata": {
        "colab": {
          "base_uri": "https://localhost:8080/"
        },
        "id": "8FAE09BJhKay",
        "outputId": "ad377aea-c29e-4ea9-f530-059ca734318b"
      },
      "execution_count": 31,
      "outputs": [
        {
          "output_type": "execute_result",
          "data": {
            "text/plain": [
              "array([1, 1, 1])"
            ]
          },
          "metadata": {},
          "execution_count": 31
        }
      ]
    },
    {
      "cell_type": "code",
      "source": [
        "numpy_any_function = np.any( b,axis = 1)\n",
        "numpy_any_function"
      ],
      "metadata": {
        "colab": {
          "base_uri": "https://localhost:8080/"
        },
        "id": "wSUGzkr6hKXr",
        "outputId": "0befcea4-a63b-4cd8-8660-405a73d50ad0"
      },
      "execution_count": 33,
      "outputs": [
        {
          "output_type": "execute_result",
          "data": {
            "text/plain": [
              "array([ True,  True])"
            ]
          },
          "metadata": {},
          "execution_count": 33
        }
      ]
    },
    {
      "cell_type": "code",
      "source": [
        "numpy_all_function = np.all(b,axis = 1)\n",
        "numpy_all_function"
      ],
      "metadata": {
        "colab": {
          "base_uri": "https://localhost:8080/"
        },
        "id": "_leAISOshKVi",
        "outputId": "1267aa8a-0800-4b55-d736-f827c884a61f"
      },
      "execution_count": 34,
      "outputs": [
        {
          "output_type": "execute_result",
          "data": {
            "text/plain": [
              "array([ True,  True])"
            ]
          },
          "metadata": {},
          "execution_count": 34
        }
      ]
    },
    {
      "cell_type": "code",
      "source": [
        "#Boolean Indexing in Numpy\n",
        "\n",
        "array1 = np.array([12,24,16,21,32,29,7,15])\n",
        "boolean_mask = array1 > 20\n",
        "boolean_mask\n",
        "array1[boolean_mask]"
      ],
      "metadata": {
        "colab": {
          "base_uri": "https://localhost:8080/"
        },
        "id": "Raq93i-Vsmb4",
        "outputId": "15caba24-c5b6-4c69-c6ff-3e6a2897f8a6"
      },
      "execution_count": 36,
      "outputs": [
        {
          "output_type": "execute_result",
          "data": {
            "text/plain": [
              "array([24, 21, 32, 29])"
            ]
          },
          "metadata": {},
          "execution_count": 36
        }
      ]
    },
    {
      "cell_type": "code",
      "source": [
        "array1 = np.array([1, 2, 4, 9, 11, 16, 18, 22, 26, 31, 33, 47, 51, 52])\n",
        "boolean_mask = (array1 < 10) | (array1 > 40)\n",
        "result = array1[boolean_mask]\n",
        "print(result)\n"
      ],
      "metadata": {
        "colab": {
          "base_uri": "https://localhost:8080/"
        },
        "id": "iPQwi8IAsmXy",
        "outputId": "03105639-1e75-4c05-9c6b-be3716bf1459"
      },
      "execution_count": 38,
      "outputs": [
        {
          "output_type": "stream",
          "name": "stdout",
          "text": [
            "[ 1  2  4  9 47 51 52]\n"
          ]
        }
      ]
    },
    {
      "cell_type": "code",
      "source": [
        "array1 = np.array([[1, 7, 9],\n",
        "                    [14, 19, 21],\n",
        "                    [25, 29, 35]])\n",
        "\n",
        "boolean_mask = array1 > 9\n",
        "result = array1[ boolean_mask]\n",
        "print(result)"
      ],
      "metadata": {
        "colab": {
          "base_uri": "https://localhost:8080/"
        },
        "id": "o_zb_Z8GsmUD",
        "outputId": "8c408ba9-e063-4bb9-8277-598bad053e74"
      },
      "execution_count": 40,
      "outputs": [
        {
          "output_type": "stream",
          "name": "stdout",
          "text": [
            "[14 19 21 25 29 35]\n"
          ]
        }
      ]
    },
    {
      "cell_type": "code",
      "source": [
        "A = np.array([3,4,6,10,24,89,45,43,46,99,100])\n",
        "print(A[(A %3==0) & (A % 5==0)])"
      ],
      "metadata": {
        "colab": {
          "base_uri": "https://localhost:8080/"
        },
        "id": "SsYg9kD8smRA",
        "outputId": "cc0f303b-51fb-4255-a9f3-be622a956c63"
      },
      "execution_count": 42,
      "outputs": [
        {
          "output_type": "stream",
          "name": "stdout",
          "text": [
            "[45]\n"
          ]
        }
      ]
    },
    {
      "cell_type": "code",
      "source": [
        "import numpy as np\n",
        "\n",
        "arr = np.array([1, 7, 3, 9, 2, 6])\n",
        "result = np.where(arr > 5, 0, arr)\n",
        "print(result)"
      ],
      "metadata": {
        "colab": {
          "base_uri": "https://localhost:8080/"
        },
        "id": "ZY9s4WpgsmN_",
        "outputId": "0d2d4e56-6da1-41e7-f04c-5efa2b74de81"
      },
      "execution_count": 54,
      "outputs": [
        {
          "output_type": "stream",
          "name": "stdout",
          "text": [
            "[1 0 3 0 2 0]\n"
          ]
        }
      ]
    },
    {
      "cell_type": "code",
      "source": [
        "arr1 = np.array([30,23,67,12,8,9,4])\n",
        "result1 = np.where(arr1 > 20,0,arr1)\n",
        "print(result1)\n"
      ],
      "metadata": {
        "colab": {
          "base_uri": "https://localhost:8080/"
        },
        "id": "Bd6S7YZcsmLD",
        "outputId": "b186f7f0-0dbc-4cba-fca0-8a96ababe09b"
      },
      "execution_count": 53,
      "outputs": [
        {
          "output_type": "stream",
          "name": "stdout",
          "text": [
            "[ 0  0  0 12  8  9  4]\n"
          ]
        }
      ]
    },
    {
      "cell_type": "code",
      "source": [
        "arr1 = np.array([30,23,67,12,8,9,4])\n",
        "result1 = np.where((arr1>20)&(arr1<30),0,arr1)\n",
        "print(result)"
      ],
      "metadata": {
        "colab": {
          "base_uri": "https://localhost:8080/"
        },
        "id": "933z2ogNsmHw",
        "outputId": "fc0b7a7e-83a0-4e85-ccd2-b8846b5fb192"
      },
      "execution_count": 56,
      "outputs": [
        {
          "output_type": "stream",
          "name": "stdout",
          "text": [
            "[1 0 3 0 2 0]\n"
          ]
        }
      ]
    },
    {
      "cell_type": "code",
      "source": [
        "arr1 = np.array([30,23,67,12,8,9,4])\n",
        "result1 = np.where(arr1 > 25,np.nan,arr1)\n",
        "print(result1)"
      ],
      "metadata": {
        "colab": {
          "base_uri": "https://localhost:8080/"
        },
        "id": "lt8eIkUMsmEi",
        "outputId": "da43c63d-f501-4da9-f681-eb3b3141a280"
      },
      "execution_count": 57,
      "outputs": [
        {
          "output_type": "stream",
          "name": "stdout",
          "text": [
            "[nan 23. nan 12.  8.  9.  4.]\n"
          ]
        }
      ]
    },
    {
      "cell_type": "code",
      "source": [
        "# Mini Project: Build a metrics dashboard using simulated data\n",
        "\n",
        "\n"
      ],
      "metadata": {
        "id": "6QQDF1ffsl_l"
      },
      "execution_count": 61,
      "outputs": []
    },
    {
      "cell_type": "code",
      "source": [
        "# Exercise 9:\n",
        "# Given a 2D NumPy array of daily sensor data (rows: days, cols: sensors):\n",
        "# Compute the average per sensor.\n",
        "# Find the day with maximum total reading.\n",
        "\n",
        "\n",
        "sensor_data = np.array([[1,2,3,4,5,6,7],[20,14,17,19,23,32,43]])\n",
        "sensor_data\n",
        "\n",
        "\n",
        "avg_per_sensor = np.mean(sensor_data)\n",
        "avg_per_sensor\n",
        "\n",
        "max_total_reading = np.max(sensor_data,axis=0)\n",
        "max_total_reading\n"
      ],
      "metadata": {
        "colab": {
          "base_uri": "https://localhost:8080/"
        },
        "id": "ZjGH535asl5I",
        "outputId": "6f002fc2-5fd9-43c3-9d8a-c086eb2806d0"
      },
      "execution_count": 68,
      "outputs": [
        {
          "output_type": "execute_result",
          "data": {
            "text/plain": [
              "array([20, 14, 17, 19, 23, 32, 43])"
            ]
          },
          "metadata": {},
          "execution_count": 68
        }
      ]
    },
    {
      "cell_type": "code",
      "source": [
        "avg_per_sensor = np.average(sensor_data,axis = 0)\n",
        "avg_per_sensor"
      ],
      "metadata": {
        "colab": {
          "base_uri": "https://localhost:8080/"
        },
        "id": "J-uhRAtY9rrx",
        "outputId": "debcc9c6-ca5e-4d7e-a9ae-817e2db86835"
      },
      "execution_count": 74,
      "outputs": [
        {
          "output_type": "execute_result",
          "data": {
            "text/plain": [
              "array([10.5,  8. , 10. , 11.5, 14. , 19. , 25. ])"
            ]
          },
          "metadata": {},
          "execution_count": 74
        }
      ]
    },
    {
      "cell_type": "code",
      "source": [
        "max_total_reading = np.max(sensor_data)\n",
        "max_total_reading"
      ],
      "metadata": {
        "colab": {
          "base_uri": "https://localhost:8080/"
        },
        "id": "MRwO6FFT9s8y",
        "outputId": "fdbaabcc-a513-4dfd-a07a-e4479445a63a"
      },
      "execution_count": 71,
      "outputs": [
        {
          "output_type": "execute_result",
          "data": {
            "text/plain": [
              "np.int64(43)"
            ]
          },
          "metadata": {},
          "execution_count": 71
        }
      ]
    },
    {
      "cell_type": "code",
      "source": [
        "iterable = (a for a in range(8))\n",
        "print(np.fromiter(iterable,int))"
      ],
      "metadata": {
        "colab": {
          "base_uri": "https://localhost:8080/"
        },
        "id": "kqUC0otaBBLF",
        "outputId": "05534714-e30b-4e65-f972-881fc7f472b7"
      },
      "execution_count": 78,
      "outputs": [
        {
          "output_type": "stream",
          "name": "stdout",
          "text": [
            "[0 1 2 3 4 5 6 7]\n"
          ]
        }
      ]
    },
    {
      "cell_type": "code",
      "source": [
        "print(np.empty([4,3], dtype=int))"
      ],
      "metadata": {
        "colab": {
          "base_uri": "https://localhost:8080/"
        },
        "id": "HmxZ6QqEBBIg",
        "outputId": "a81436ef-db59-4523-d38e-b61ab62fd321"
      },
      "execution_count": 79,
      "outputs": [
        {
          "output_type": "stream",
          "name": "stdout",
          "text": [
            "[[          912066627                   0     139465041361888]\n",
            " [           10767936     139465041403344            10765928]\n",
            " [            9924928             9924928             9924928]\n",
            " [            9924928 6568633515958755594      45480266443826]]\n"
          ]
        }
      ]
    },
    {
      "cell_type": "code",
      "source": [
        "a = np.full([2,2],67,dtype = int)\n",
        "a"
      ],
      "metadata": {
        "colab": {
          "base_uri": "https://localhost:8080/"
        },
        "id": "KNmKgPVlBBEG",
        "outputId": "1d5d9aaa-9e2c-473d-ebd3-1f8c161cef58"
      },
      "execution_count": 80,
      "outputs": [
        {
          "output_type": "execute_result",
          "data": {
            "text/plain": [
              "array([[67, 67],\n",
              "       [67, 67]])"
            ]
          },
          "metadata": {},
          "execution_count": 80
        }
      ]
    },
    {
      "cell_type": "code",
      "source": [
        "b = np.eye(4)\n",
        "print(b)"
      ],
      "metadata": {
        "colab": {
          "base_uri": "https://localhost:8080/"
        },
        "id": "Whds2KGYBA_4",
        "outputId": "e9c0b806-e2de-49ae-d65f-b357f4cda53d"
      },
      "execution_count": 81,
      "outputs": [
        {
          "output_type": "stream",
          "name": "stdout",
          "text": [
            "[[1. 0. 0. 0.]\n",
            " [0. 1. 0. 0.]\n",
            " [0. 0. 1. 0.]\n",
            " [0. 0. 0. 1.]]\n"
          ]
        }
      ]
    },
    {
      "cell_type": "code",
      "source": [
        ""
      ],
      "metadata": {
        "id": "o2H4F80UBA8U"
      },
      "execution_count": null,
      "outputs": []
    },
    {
      "cell_type": "code",
      "source": [],
      "metadata": {
        "colab": {
          "base_uri": "https://localhost:8080/"
        },
        "id": "FlCaBWULBA5l",
        "outputId": "717c4114-82b4-4a57-e69d-789d2c2f632c"
      },
      "execution_count": 82,
      "outputs": [
        {
          "output_type": "stream",
          "name": "stdout",
          "text": [
            "Without seed:\n",
            "[0.68423303 0.44015249 0.12203823]\n",
            "[0.49517691 0.03438852 0.9093204 ]\n",
            "\n",
            "With seed 42:\n",
            "[0.37454012 0.95071431 0.73199394]\n",
            "\n",
            "Running again with seed 42:\n",
            "[0.37454012 0.95071431 0.73199394]\n"
          ]
        }
      ]
    },
    {
      "cell_type": "code",
      "source": [
        "# Mini Project: Metrics Dashboard with Simulated Data\n",
        "# Objective\n",
        "# Create a simple sensor metrics dashboard that:\n",
        "\n",
        "# Simulates daily sensor readings\n",
        "\n",
        "# Calculates key metrics:\n",
        "\n",
        "# Mean, Sum, Standard Deviation per sensor\n",
        "\n",
        "import numpy as np\n",
        "readings = np.array([[1,2,3,4,5,6],[20,22,32,40,45,55]])\n",
        "readings\n",
        "\n",
        "\n",
        "mean_values = np.mean(readings,axis = 0)\n",
        "mean_values"
      ],
      "metadata": {
        "id": "71tMdHzBBA2d"
      },
      "execution_count": 8,
      "outputs": []
    },
    {
      "cell_type": "code",
      "source": [
        "sum_values = np.sum(readings,axis = 0)\n",
        "sum_values"
      ],
      "metadata": {
        "colab": {
          "base_uri": "https://localhost:8080/"
        },
        "id": "79huej_5BAzV",
        "outputId": "95b1c07c-1412-41ce-f952-efb3874a66cf"
      },
      "execution_count": 12,
      "outputs": [
        {
          "output_type": "execute_result",
          "data": {
            "text/plain": [
              "array([21, 24, 35, 44, 50, 61])"
            ]
          },
          "metadata": {},
          "execution_count": 12
        }
      ]
    },
    {
      "cell_type": "code",
      "source": [
        "std_devation = np.std(readings,axis=0)\n",
        "std_devation"
      ],
      "metadata": {
        "colab": {
          "base_uri": "https://localhost:8080/"
        },
        "id": "Mqv1u7UbBAwo",
        "outputId": "7e124386-f93c-4385-877c-b462780b9a01"
      },
      "execution_count": 13,
      "outputs": [
        {
          "output_type": "execute_result",
          "data": {
            "text/plain": [
              "array([ 9.5, 10. , 14.5, 18. , 20. , 24.5])"
            ]
          },
          "metadata": {},
          "execution_count": 13
        }
      ]
    },
    {
      "cell_type": "code",
      "source": [
        "import pandas as pd\n",
        "import numpy as np\n",
        "\n",
        "# Assuming 'data_mixed.csv' exists:\n",
        "# Name,Age,Score\n",
        "# Alice,25,85.5\n",
        "# Bob,30,92.1\n",
        "# Charlie,22,78.9\n",
        "\n",
        "\n",
        "df = pd.read_csv('/content/pandas.csv')\n",
        "arr = df.to_numpy() # Converts the entire DataFrame to a NumPy array\n",
        "print(arr)\n",
        "\n",
        "# If you only want specific columns as a numerical array:\n",
        "numerical_arr = df[['Age', 'Score']].to_numpy()\n",
        "print(numerical_arr)"
      ],
      "metadata": {
        "id": "BwLJuIJNBAtA"
      },
      "execution_count": null,
      "outputs": []
    },
    {
      "cell_type": "code",
      "source": [
        "import numpy as np\n",
        "\n",
        "# Time series of stock prices\n",
        "stock_prices = np.array([150.25, 152.75, 153.50, 155.00, 154.25])\n",
        "\n",
        "# Calculate the daily change in stock prices\n",
        "price_changes = np.diff(stock_prices)\n",
        "\n",
        "print(\"Price Changes:\", price_changes)"
      ],
      "metadata": {
        "id": "W34SxOYuBAqC"
      },
      "execution_count": null,
      "outputs": []
    },
    {
      "cell_type": "code",
      "source": [
        "import numpy as np\n",
        "\n",
        "date_only = np.datetime64('2025-07-14')\n",
        "datetime_full = np.datetime64('2025-07-14T17:58:00')\n",
        "current_time = np.datetime64('now')\n",
        "current_date_day_res = np.datetime64('today', 'D')"
      ],
      "metadata": {
        "id": "LEcejE8UPdF6"
      },
      "execution_count": 14,
      "outputs": []
    },
    {
      "cell_type": "code",
      "source": [
        "import numpy as np\n",
        "date1 = np.datetime64('2025-07-01')\n",
        "date2 = np.datetime64('2025-07-10')\n",
        "time_difference = date2 - date1  # Result is a timedelta64\n",
        "future_date = date1 + np.timedelta64(5, 'D') # Add 5 days"
      ],
      "metadata": {
        "id": "VCzTlWYNPdBm"
      },
      "execution_count": 15,
      "outputs": []
    },
    {
      "cell_type": "code",
      "source": [
        "import numpy as np\n",
        "\n",
        "# get the current date and time\n",
        "result = np.datetime64('now')\n",
        "\n",
        "print(\"Current date and time:\")\n",
        "print(result)"
      ],
      "metadata": {
        "colab": {
          "base_uri": "https://localhost:8080/"
        },
        "id": "wHmz2XBnPc9V",
        "outputId": "db6f4bff-09a6-423c-89b4-106418c7ede4"
      },
      "execution_count": 16,
      "outputs": [
        {
          "output_type": "stream",
          "name": "stdout",
          "text": [
            "Current date and time:\n",
            "2025-07-14T14:01:11\n"
          ]
        }
      ]
    },
    {
      "cell_type": "code",
      "source": [
        "import numpy as np\n",
        "\n",
        "# get the current date\n",
        "date_today = np.datetime64('today', 'D')\n",
        "\n",
        "print(\"Today's date:\")\n",
        "print(date_today)"
      ],
      "metadata": {
        "colab": {
          "base_uri": "https://localhost:8080/"
        },
        "id": "2-nSSdYAPc5R",
        "outputId": "84f8c07d-9618-4008-cae1-17bde015917c"
      },
      "execution_count": 17,
      "outputs": [
        {
          "output_type": "stream",
          "name": "stdout",
          "text": [
            "Today's date:\n",
            "2025-07-14\n"
          ]
        }
      ]
    },
    {
      "cell_type": "code",
      "source": [
        "import numpy as np\n",
        "\n",
        "# use datetime64() for different time units\n",
        "year = np.datetime64('2025', 'Y')\n",
        "month = np.datetime64('2025-07', 'M')\n",
        "day = np.datetime64('2025-07-29', 'D')\n",
        "hour = np.datetime64('2025-07-29T10', 'h')\n",
        "minute = np.datetime64('2025-07-29T10:30', 'm')\n",
        "second = np.datetime64('2025-07-29T10:30:15', 's')\n",
        "\n",
        "print(\"Year: \", year)\n",
        "print(\"Month: \", month)\n",
        "print(\"Day: \", day)\n",
        "print(\"Hour: \", hour)\n",
        "print(\"Minute: \", minute)\n",
        "print(\"Second: \", second)"
      ],
      "metadata": {
        "colab": {
          "base_uri": "https://localhost:8080/"
        },
        "id": "AmuEgxHtPc2i",
        "outputId": "42914f6b-8e2d-47a0-a9f8-a9157bfe731e"
      },
      "execution_count": 18,
      "outputs": [
        {
          "output_type": "stream",
          "name": "stdout",
          "text": [
            "Year:  2025\n",
            "Month:  2025-07\n",
            "Day:  2025-07-29\n",
            "Hour:  2025-07-29T10\n",
            "Minute:  2025-07-29T10:30\n",
            "Second:  2025-07-29T10:30:15\n"
          ]
        }
      ]
    },
    {
      "cell_type": "code",
      "source": [
        "import numpy as np\n",
        "from datetime import datetime\n",
        "\n",
        "dt64 = np.datetime64(\"2025-07-29T12:34:56\")\n",
        "\n",
        "dt = dt64.astype(datetime)\n",
        "\n",
        "print(dt)"
      ],
      "metadata": {
        "colab": {
          "base_uri": "https://localhost:8080/"
        },
        "id": "YjqS-P_EPczX",
        "outputId": "3aba47d7-ea54-4c76-a731-f237b78175f2"
      },
      "execution_count": 19,
      "outputs": [
        {
          "output_type": "stream",
          "name": "stdout",
          "text": [
            "2025-07-29 12:34:56\n"
          ]
        }
      ]
    },
    {
      "cell_type": "code",
      "source": [
        "import numpy as np\n",
        "from datetime import datetime\n",
        "\n",
        "dt = datetime(2025,7,14,12,34,56)\n",
        "\n",
        "dt64 = np.datetime64(dt)\n",
        "\n",
        "print(dt64)"
      ],
      "metadata": {
        "colab": {
          "base_uri": "https://localhost:8080/"
        },
        "id": "bMuFLxWTPcwb",
        "outputId": "9df14714-c1f3-4828-9aa7-3f129b5c0c76"
      },
      "execution_count": 20,
      "outputs": [
        {
          "output_type": "stream",
          "name": "stdout",
          "text": [
            "2025-07-14T12:34:56.000000\n"
          ]
        }
      ]
    },
    {
      "cell_type": "code",
      "source": [
        "def memory_efficient_function(max_value):\n",
        "    current_value = 0\n",
        "    while current_value < max_value:\n",
        "        yield current_value\n",
        "        current_value += 1\n",
        "\n",
        "# Using the generator function\n",
        "my_generator = memory_efficient_function(5)\n",
        "\n",
        "for value in my_generator:\n",
        "    print(value)"
      ],
      "metadata": {
        "colab": {
          "base_uri": "https://localhost:8080/"
        },
        "id": "CEwrrTyjP9TD",
        "outputId": "db3c8567-d015-4bb8-d64c-c5d7853adc96"
      },
      "execution_count": 21,
      "outputs": [
        {
          "output_type": "stream",
          "name": "stdout",
          "text": [
            "0\n",
            "1\n",
            "2\n",
            "3\n",
            "4\n"
          ]
        }
      ]
    },
    {
      "cell_type": "code",
      "source": [
        "# Exercise 10:\n",
        "# Simulate one week of hourly power consumption data:\n",
        "# 7x24 matrix.\n",
        "#Calculate total, average, and variance per day.\n",
        "a = np.random.randint(100,size = (7,24))\n",
        "print(a)\n",
        "\n",
        "\n",
        "total_per_day = np.sum(a)\n",
        "print(total_per_day)\n",
        "\n",
        "\n",
        "avergae_per_day = np.average(a)\n",
        "avergae_per_day\n",
        "\n",
        "\n",
        "variance_per_day = np.var(a)\n",
        "variance_per_day"
      ],
      "metadata": {
        "colab": {
          "base_uri": "https://localhost:8080/"
        },
        "id": "l2sz0LaCP9OM",
        "outputId": "d85a2b5d-3ab1-47d8-96ee-94947b305d3b"
      },
      "execution_count": 22,
      "outputs": [
        {
          "output_type": "stream",
          "name": "stdout",
          "text": [
            "[[ 1 56 39 25 67 23  4 91 43 35  6 26 33 43 85 24 68 54 20  4 39 16 12 78]\n",
            " [15 67 51 60 41 77  8 92 99 15 54 53 45 82 84 14 27 29 29 69 90 85 65 42]\n",
            " [ 6 44 79 80 76 43 88 95 76 33 71 90 37 15 35 84 11 99 81 94  2 20 80 97]\n",
            " [43 41 91 82 29 22 56 72 25 21  3 26  1 85 16 59 99 31 66 87 20  5 62 10]\n",
            " [28  9 85 92 40 18 10  8  6 85 47 87  8 94 61 43 52 36 36  9 39 46 88 68]\n",
            " [74  8 44 17 93  6 39 67 17 72 20 40 26 30 34 15 93 91 71 16 75 42 10 14]\n",
            " [18  2 24 12 94 70 57 59 28 69 24 70 91 63 54 24 57 25 13 91 78 55 22 56]]\n"
          ]
        }
      ]
    },
    {
      "cell_type": "code",
      "source": [
        "import numpy as np\n",
        "\n",
        "# create a range of dates from 2023-04-01 to 2023-04-10\n",
        "dates = np.arange('2023-04-01', '2023-04-11', dtype='datetime64[D]')\n",
        "\n",
        "# print the dates\n",
        "print(dates)\n",
        "\n",
        "\n",
        "\n"
      ],
      "metadata": {
        "colab": {
          "base_uri": "https://localhost:8080/"
        },
        "id": "jqO7D6ndP9Kt",
        "outputId": "a00fbace-7466-43a0-e6f9-55e99da31dca"
      },
      "execution_count": 23,
      "outputs": [
        {
          "output_type": "stream",
          "name": "stdout",
          "text": [
            "['2023-04-01' '2023-04-02' '2023-04-03' '2023-04-04' '2023-04-05'\n",
            " '2023-04-06' '2023-04-07' '2023-04-08' '2023-04-09' '2023-04-10']\n"
          ]
        }
      ]
    },
    {
      "cell_type": "code",
      "source": [],
      "metadata": {
        "id": "sELlOy6dP9HL"
      },
      "execution_count": null,
      "outputs": []
    },
    {
      "cell_type": "code",
      "source": [],
      "metadata": {
        "id": "tpj0kqikP9Cb"
      },
      "execution_count": null,
      "outputs": []
    },
    {
      "cell_type": "code",
      "source": [],
      "metadata": {
        "id": "NyQMYrXuP8x8"
      },
      "execution_count": null,
      "outputs": []
    },
    {
      "cell_type": "code",
      "source": [],
      "metadata": {
        "id": "n1vZhSG6P8uM"
      },
      "execution_count": null,
      "outputs": []
    }
  ]
}
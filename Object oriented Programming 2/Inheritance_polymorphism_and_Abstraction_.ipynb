{
  "nbformat": 4,
  "nbformat_minor": 0,
  "metadata": {
    "colab": {
      "provenance": []
    },
    "kernelspec": {
      "name": "python3",
      "display_name": "Python 3"
    },
    "language_info": {
      "name": "python"
    }
  },
  "cells": [
    {
      "cell_type": "code",
      "execution_count": null,
      "metadata": {
        "colab": {
          "base_uri": "https://localhost:8080/"
        },
        "id": "HVX7TS2uvjji",
        "outputId": "fa66c135-3bad-4375-c090-afa9756cb2d0"
      },
      "outputs": [
        {
          "output_type": "stream",
          "name": "stdout",
          "text": [
            "[[1 3]\n",
            " [4 6]\n",
            " [7 9]]\n"
          ]
        }
      ],
      "source": [
        "import numpy as np\n",
        "arr = np.array([[1, 2, 3, 10],\n",
        "                    [4, 5, 6, 11],\n",
        "                    [7, 8, 9, 12]])\n",
        "\n",
        "# Access the first and third columns (index 0 and 2)\n",
        "selected_columns = arr[:, [0,2]]\n",
        "print(selected_columns)\n",
        "    # Output:\n",
        "    # [[1 3]\n",
        "    #  [4 6]\n",
        "    #  [7 9]]"
      ]
    },
    {
      "cell_type": "code",
      "source": [
        "c = np.arange(12).reshape(3,4)\n",
        "c"
      ],
      "metadata": {
        "colab": {
          "base_uri": "https://localhost:8080/"
        },
        "id": "kFAVAN8HwiKv",
        "outputId": "e94f05d7-f1f3-4620-fae1-4e034b5bb8d7"
      },
      "execution_count": null,
      "outputs": [
        {
          "output_type": "execute_result",
          "data": {
            "text/plain": [
              "array([[ 0,  1,  2,  3],\n",
              "       [ 4,  5,  6,  7],\n",
              "       [ 8,  9, 10, 11]])"
            ]
          },
          "metadata": {},
          "execution_count": 17
        }
      ]
    },
    {
      "cell_type": "code",
      "source": [
        "c[[0,0,2],[2,3,0]]"
      ],
      "metadata": {
        "colab": {
          "base_uri": "https://localhost:8080/"
        },
        "id": "mVePUasAzDaB",
        "outputId": "9be46000-ddaf-485e-b067-069d8cfc0fbd"
      },
      "execution_count": null,
      "outputs": [
        {
          "output_type": "execute_result",
          "data": {
            "text/plain": [
              "array([2, 3, 8])"
            ]
          },
          "metadata": {},
          "execution_count": 20
        }
      ]
    },
    {
      "cell_type": "code",
      "source": [
        "b = np.arange(4).reshape(1,4)\n",
        "b"
      ],
      "metadata": {
        "colab": {
          "base_uri": "https://localhost:8080/"
        },
        "id": "cuA5l7QQwiG1",
        "outputId": "38433f2a-1e75-423a-ee20-e934bd1c82fd"
      },
      "execution_count": null,
      "outputs": [
        {
          "output_type": "execute_result",
          "data": {
            "text/plain": [
              "array([[0, 1, 2, 3]])"
            ]
          },
          "metadata": {},
          "execution_count": 21
        }
      ]
    },
    {
      "cell_type": "code",
      "source": [
        "k =c + b"
      ],
      "metadata": {
        "id": "Oaex-6yGwiDa"
      },
      "execution_count": null,
      "outputs": []
    },
    {
      "cell_type": "code",
      "source": [
        "k[[0,0,2,2],[1,3,0,3]]"
      ],
      "metadata": {
        "colab": {
          "base_uri": "https://localhost:8080/"
        },
        "id": "cHRZNYUmzt7X",
        "outputId": "bf4cdf96-e137-4a56-dfb9-1894c9a56321"
      },
      "execution_count": null,
      "outputs": [
        {
          "output_type": "execute_result",
          "data": {
            "text/plain": [
              "array([ 2,  6,  8, 14])"
            ]
          },
          "metadata": {},
          "execution_count": 25
        }
      ]
    },
    {
      "cell_type": "code",
      "source": [
        "a = a>5\n",
        "a\n"
      ],
      "metadata": {
        "colab": {
          "base_uri": "https://localhost:8080/"
        },
        "id": "k_nfJT66wiAW",
        "outputId": "12433a12-2163-46d4-d613-91ae9cebaa7b"
      },
      "execution_count": null,
      "outputs": [
        {
          "output_type": "execute_result",
          "data": {
            "text/plain": [
              "array([[False, False, False, False],\n",
              "       [False, False, False, False],\n",
              "       [False, False, False, False]])"
            ]
          },
          "metadata": {},
          "execution_count": 15
        }
      ]
    },
    {
      "cell_type": "code",
      "source": [
        "a[]"
      ],
      "metadata": {
        "colab": {
          "base_uri": "https://localhost:8080/"
        },
        "id": "CZ34hwgYwh9W",
        "outputId": "d4eb7c0b-a71c-4fb0-c83c-80d175217c6c"
      },
      "execution_count": null,
      "outputs": [
        {
          "output_type": "execute_result",
          "data": {
            "text/plain": [
              "array([[False, False, False, False],\n",
              "       [False, False, False, False],\n",
              "       [False, False, False, False]])"
            ]
          },
          "metadata": {},
          "execution_count": 16
        }
      ]
    },
    {
      "cell_type": "code",
      "source": [
        "class A:\n",
        "    def __init__(self):\n",
        "        print(\"Hi\")\n",
        "\n",
        "    def func(self):\n",
        "        print(\"Hello\")\n",
        "\n",
        "class B(A):  # B inherits from A\n",
        "    def __init__(self):\n",
        "        print(\"sahil\")\n",
        "        super().__init__()\n",
        "\n",
        "    def func(self):\n",
        "        print(\"Bye\")\n",
        "        super().func()\n",
        "\n",
        "obj = B()\n",
        "print(obj.func())\n"
      ],
      "metadata": {
        "colab": {
          "base_uri": "https://localhost:8080/"
        },
        "id": "0z_YQ8cowh7D",
        "outputId": "ced40de5-98ce-4d4d-d38b-a257c2796207"
      },
      "execution_count": null,
      "outputs": [
        {
          "output_type": "stream",
          "name": "stdout",
          "text": [
            "sahil\n",
            "Hi\n",
            "Bye\n",
            "Hello\n",
            "None\n"
          ]
        }
      ]
    },
    {
      "cell_type": "code",
      "source": [
        "class phone:\n",
        "\n",
        "\n",
        "  def __init__(self,price,brand,camera):\n",
        "    print(\"Inside the phone\")\n",
        "    self.price = price\n",
        "    self.brand = brand\n",
        "    self.camera = camera\n",
        "\n",
        "\n",
        "  def buy(self):\n",
        "    print(\"Buying a phone\")\n",
        "\n",
        "\n",
        "class SmartPhone(phone):\n",
        "  pass\n",
        "\n",
        "\n",
        "\n",
        "s = SmartPhone(2000,\"Apple\",14)\n"
      ],
      "metadata": {
        "colab": {
          "base_uri": "https://localhost:8080/"
        },
        "id": "TTjEOtl9wh4P",
        "outputId": "6b4dce37-2802-49b0-81b8-214d723f8323"
      },
      "execution_count": null,
      "outputs": [
        {
          "output_type": "stream",
          "name": "stdout",
          "text": [
            "Inside the phone\n"
          ]
        }
      ]
    },
    {
      "cell_type": "code",
      "source": [
        "class phone:\n",
        "\n",
        "\n",
        "  def __init__(self,price,brand,camera):\n",
        "    print(\"Inside the phone\")\n",
        "    self.price = price\n",
        "    self.brand = brand\n",
        "    self.camera = camera\n",
        "\n",
        "class Smartphone(phone):\n",
        "  def __init__(self,os,ram):\n",
        "    self.os = os\n",
        "    self.ram = ram\n",
        "    print(\"inside smartphone\")\n",
        "\n",
        "\n",
        "s = Smartphone(\"Android\", 3)"
      ],
      "metadata": {
        "colab": {
          "base_uri": "https://localhost:8080/"
        },
        "id": "tZCZazgLwh1w",
        "outputId": "b66eb1df-c194-4e6b-89b8-ecd7d2bbc9b7"
      },
      "execution_count": null,
      "outputs": [
        {
          "output_type": "stream",
          "name": "stdout",
          "text": [
            "inside smartphone\n"
          ]
        }
      ]
    },
    {
      "cell_type": "code",
      "source": [
        "class phone:\n",
        "\n",
        "\n",
        "  def __init__(self,price,brand,camera):\n",
        "    print(\"Inside the phone\")\n",
        "    self.__price = price\n",
        "    self.brand = brand\n",
        "    self.camera = camera\n",
        "\n",
        "\n",
        "  def show(self):\n",
        "    print(self.__price)\n",
        "\n",
        "\n",
        "class Smartphone(phone):\n",
        "  def check(self):\n",
        "    print(self.__price)\n",
        "\n",
        "\n",
        "s = Smartphone(20000,\"Apple\",13)\n",
        "# s.check()\n",
        "# print(s.brand)\n",
        "s.show()\n"
      ],
      "metadata": {
        "colab": {
          "base_uri": "https://localhost:8080/"
        },
        "id": "sbwrkROPB23Q",
        "outputId": "65e631f4-1caf-4c64-f5df-ebfbfa43c2e9"
      },
      "execution_count": null,
      "outputs": [
        {
          "output_type": "stream",
          "name": "stdout",
          "text": [
            "Inside the phone\n",
            "20000\n"
          ]
        }
      ]
    },
    {
      "cell_type": "code",
      "source": [
        "class  Parents:\n",
        "\n",
        "  def __init__(self,num):\n",
        "    self.__num = num\n",
        "\n",
        "  def get_num(self):\n",
        "      return self.__num\n",
        "\n",
        "class Child(Parents):\n",
        "\n",
        "  def show(self):\n",
        "    print(\"This is the child class\")\n",
        "\n",
        "\n",
        "\n",
        "son =  Child(100)\n",
        "print(son.get_num())\n",
        "son.show()\n"
      ],
      "metadata": {
        "colab": {
          "base_uri": "https://localhost:8080/"
        },
        "id": "Advy_Vi_B2zX",
        "outputId": "c7659f8d-634a-40f9-fd83-27cb48bf7870"
      },
      "execution_count": null,
      "outputs": [
        {
          "output_type": "stream",
          "name": "stdout",
          "text": [
            "100\n",
            "This is the child class\n"
          ]
        }
      ]
    },
    {
      "cell_type": "code",
      "source": [
        "class Parents:\n",
        "\n",
        "  def __init__(self,num):\n",
        "    self.__num = num\n",
        "\n",
        "  def get_data(self):\n",
        "    return self.__num\n",
        "\n",
        "class Child(Parents):\n",
        "\n",
        "  def __init__(self, num,val):\n",
        "    self.__val = val\n",
        "\n",
        "\n",
        "  def get_val(self):\n",
        "    return self.__val\n",
        "\n",
        "\n",
        "\n",
        "\n",
        "son = Child(100,10)\n",
        "# print(son.get_num())\n",
        "print(son.get_val())\n"
      ],
      "metadata": {
        "colab": {
          "base_uri": "https://localhost:8080/"
        },
        "id": "WGJIilbiB2wf",
        "outputId": "e67befb7-d338-405f-fc8b-944649b12b64"
      },
      "execution_count": null,
      "outputs": [
        {
          "output_type": "stream",
          "name": "stdout",
          "text": [
            "10\n"
          ]
        }
      ]
    },
    {
      "cell_type": "code",
      "source": [
        "class phone:\n",
        "\n",
        "\n",
        "  def __init__(self,price,brand,camera):\n",
        "    print(\"Inside the phone\")\n",
        "    self.__price = price\n",
        "    self.brand = brand\n",
        "    self.camera = camera\n",
        "\n",
        "  def purchase(self):\n",
        "    print(\"this is the parents\")\n",
        "\n",
        "\n",
        "class Smartphone(phone):\n",
        "\n",
        "  def purchase(self):\n",
        "    print(\"this is  the students\")\n",
        "    super().purchase()\n",
        "\n",
        "\n",
        "\n",
        "\n",
        "k = Smartphone(20000,\"Apple\",13)\n",
        "\n",
        "k.purchase()\n",
        "\n",
        "\n",
        "\n"
      ],
      "metadata": {
        "colab": {
          "base_uri": "https://localhost:8080/"
        },
        "id": "e7bcYwd3B2tt",
        "outputId": "cfea3a64-8b3b-4ebf-9343-314592e54822"
      },
      "execution_count": null,
      "outputs": [
        {
          "output_type": "stream",
          "name": "stdout",
          "text": [
            "Inside the phone\n",
            "this is  the students\n",
            "this is the parents\n"
          ]
        }
      ]
    },
    {
      "cell_type": "code",
      "source": [
        "class phone:\n",
        "\n",
        "\n",
        "  def __init__(self,price,brand,camera):\n",
        "    print(\"Inside the phone\")\n",
        "    self.__price = price\n",
        "    self.brand = brand\n",
        "    self.camera = camera\n",
        "\n",
        "\n",
        "class Smartphone(phone):\n",
        "    def __init__(self, price, brand, camera,os,ram):\n",
        "      print(\"This is parents\")\n",
        "      super().__init__(price, brand, camera)\n",
        "      self.os = os\n",
        "      self.ram = ram\n",
        "      print(\" This is child\")\n",
        "\n",
        "s = Smartphone(1000,\"Samsung\",13,'Anroid',64)\n",
        "print(s.os)\n",
        "print(s.ram)\n",
        "\n"
      ],
      "metadata": {
        "colab": {
          "base_uri": "https://localhost:8080/"
        },
        "id": "22o8qS3fB2qw",
        "outputId": "e2437683-b571-456b-8308-43ab7fe8437d"
      },
      "execution_count": null,
      "outputs": [
        {
          "output_type": "stream",
          "name": "stdout",
          "text": [
            "This is parents\n",
            "Inside the phone\n",
            " This is child\n",
            "Anroid\n",
            "64\n"
          ]
        }
      ]
    },
    {
      "cell_type": "code",
      "source": [
        "class Parents:\n",
        "\n",
        "  def __init__(self,num):\n",
        "    self.__num = num\n",
        "\n",
        "  def get_num(self):\n",
        "    return self.__num\n",
        "\n",
        "class Child(Parents):\n",
        "\n",
        "  def __init__(self, num,val):\n",
        "    super().__init__(num)\n",
        "    self.__val = val\n",
        "\n",
        "\n",
        "  def get_val(self):\n",
        "    return self.__val\n",
        "\n",
        "\n",
        "\n",
        "\n",
        "son = Child(100,200)\n",
        "print(son.get_num())\n",
        "print(son.get_val())\n"
      ],
      "metadata": {
        "colab": {
          "base_uri": "https://localhost:8080/"
        },
        "id": "4CP__OvoB2oC",
        "outputId": "e61c994b-a2b5-4830-9416-082406fe185d"
      },
      "execution_count": null,
      "outputs": [
        {
          "output_type": "stream",
          "name": "stdout",
          "text": [
            "100\n",
            "200\n"
          ]
        }
      ]
    },
    {
      "cell_type": "code",
      "source": [
        "class Phone:\n",
        "\n",
        "  def __init__(self,price,brand,camera):\n",
        "    print(\"Inside phone constructor\")\n",
        "\n",
        "  def buy( self):\n",
        "    print(\"Buying a phone\")\n",
        "\n",
        "class Smartphone(Phone):\n",
        "  pass\n",
        "\n",
        "class Featurephone(Phone):\n",
        "  pass\n",
        "\n",
        "Smartphone(1000,\"Apple\",\"13px\").buy()\n",
        "Featurephone(500,\"Lava\",\"1px\").buy()\n",
        "\n",
        "\n"
      ],
      "metadata": {
        "id": "SD2omCMlB2lZ",
        "colab": {
          "base_uri": "https://localhost:8080/"
        },
        "outputId": "bcc5ec67-1a97-4d7f-d843-3f8362f6963a"
      },
      "execution_count": null,
      "outputs": [
        {
          "output_type": "stream",
          "name": "stdout",
          "text": [
            "Inside phone constructor\n",
            "Buying a phone\n",
            "Inside phone constructor\n",
            "Buying a phone\n"
          ]
        }
      ]
    },
    {
      "cell_type": "code",
      "source": [
        "class Phone:\n",
        "  def __init__(self,price,brand,camera):\n",
        "    print(\"Inside phone\")\n",
        "    self.price = price\n",
        "    self.brand = brand\n",
        "    self.camera = camera\n",
        "\n",
        "  def buy(self):\n",
        "      print(\"Buying a phone \")\n",
        "\n",
        "\n",
        "class Smartphone:\n",
        "\n",
        "  def review(self):\n",
        "    print(\"this is second class\")\n",
        "\n",
        "\n",
        "class Product(Phone,Smartphone):\n",
        "  pass\n",
        "\n",
        "\n",
        "\n",
        "s = Product(20000,\"Apple\",12)\n",
        "\n",
        "\n",
        "s.buy()\n",
        "\n"
      ],
      "metadata": {
        "id": "EMMkymEdB2jO",
        "colab": {
          "base_uri": "https://localhost:8080/"
        },
        "outputId": "1a44ee32-84fb-4953-a1cb-79387ee23645"
      },
      "execution_count": null,
      "outputs": [
        {
          "output_type": "stream",
          "name": "stdout",
          "text": [
            "Inside phone\n",
            "Buyin a phone \n"
          ]
        }
      ]
    },
    {
      "cell_type": "code",
      "source": [
        "\n",
        "#Method Overloading\n",
        "class Shape:\n",
        "\n",
        "  def area(self,a,b=0):\n",
        "    if b==0:\n",
        "      return 3.14*a*a\n",
        "    else:\n",
        "      return a*b\n",
        "\n",
        "\n",
        "s = Shape()\n",
        "\n",
        "s.area(2)\n",
        "s.area(3,4)\n",
        "\n",
        "\n",
        "\n"
      ],
      "metadata": {
        "colab": {
          "base_uri": "https://localhost:8080/"
        },
        "id": "RZSNrPcZhrWE",
        "outputId": "ae896911-091d-4200-f5d4-4977ebc5cce0"
      },
      "execution_count": null,
      "outputs": [
        {
          "output_type": "execute_result",
          "data": {
            "text/plain": [
              "12"
            ]
          },
          "metadata": {},
          "execution_count": 93
        }
      ]
    },
    {
      "cell_type": "code",
      "source": [
        "\n",
        "#abstraction\n",
        "\n",
        "from abc import ABC, abstractmethod\n",
        "\n",
        "\n",
        "class BankApp(ABC):\n",
        "\n",
        "\n",
        "  def database(self):\n",
        "    print(\"connected to database\")\n",
        "\n",
        "  @abstractmethod\n",
        "  def security(self):\n",
        "    pass\n"
      ],
      "metadata": {
        "id": "monMaQaOm-UN"
      },
      "execution_count": 123,
      "outputs": []
    },
    {
      "cell_type": "code",
      "source": [
        "class MobileApp(BankApp):\n",
        "\n",
        "\n",
        "  def login(self):\n",
        "    print(\"Mobile login information\")\n",
        "\n",
        "\n",
        "  def security(self):\n",
        "    print(\"security\")"
      ],
      "metadata": {
        "id": "s4KEpmkMm-RE"
      },
      "execution_count": 126,
      "outputs": []
    },
    {
      "cell_type": "code",
      "source": [
        "\n",
        "m = MobileApp()"
      ],
      "metadata": {
        "id": "cOMB-zyfhrR1"
      },
      "execution_count": 127,
      "outputs": []
    },
    {
      "cell_type": "code",
      "source": [
        "m.security()"
      ],
      "metadata": {
        "colab": {
          "base_uri": "https://localhost:8080/"
        },
        "id": "n8SZbPhshrO_",
        "outputId": "996a043b-d009-484a-f444-823b1580c35a"
      },
      "execution_count": null,
      "outputs": [
        {
          "output_type": "stream",
          "name": "stdout",
          "text": [
            "security\n"
          ]
        }
      ]
    },
    {
      "cell_type": "code",
      "source": [
        "from datetime import date as dt\n",
        "class Employee:\n",
        "   def __init__(self, name, age):\n",
        "      self.name = name\n",
        "      self.age = age\n",
        "\n",
        "\n",
        "   def isAdult(age):\n",
        "      if age > 18:\n",
        "         return True\n",
        "      else:\n",
        "         return False\n",
        "\n",
        "   @classmethod\n",
        "   def emp_from_year(emp_class, name, year):\n",
        "      return emp_class(name, dt.today().year - year)\n",
        "\n",
        "   def __str__(self):\n",
        "      return 'Employee Name: {} and Age: {}'.format(self.name, self.age)\n",
        "\n",
        "# e1 = Employee('Sahil', 2003)\n",
        "# print(e1)\n",
        "e2 = Employee.emp_from_year('Subhas', 1987)\n",
        "\n",
        "print(e2)\n",
        "# print(Employee.isAdult(25))\n",
        "# print(Employee.isAdult(16))"
      ],
      "metadata": {
        "colab": {
          "base_uri": "https://localhost:8080/"
        },
        "id": "GTbrtxsWhrMM",
        "outputId": "bb7b007d-bb99-451e-95f2-3da6ef3d20ef"
      },
      "execution_count": 137,
      "outputs": [
        {
          "output_type": "stream",
          "name": "stdout",
          "text": [
            "Employee Name: Subhas and Age: 38\n"
          ]
        }
      ]
    },
    {
      "cell_type": "code",
      "source": [
        "# Exercises:\n",
        "# ● Create a base class Vehicle, with common attributes like plate_no, fuel_type.\n",
        "# ● Inherit Truck and Van from Vehicle.\n",
        "# ● Override the is_overloaded() method for each type.\n"
      ],
      "metadata": {
        "id": "8oP809hShrJQ"
      },
      "execution_count": null,
      "outputs": []
    },
    {
      "cell_type": "code",
      "source": [
        "class Vehicle:\n",
        "    def __init__(self,plate_no,fuel_type):\n",
        "      self.plate_no = plate_no\n",
        "      self.fuel_type = fuel_type\n",
        "\n",
        "    def is_overloaded(self):\n",
        "        print(\"The parent is called\")\n",
        "\n",
        "class Truck(Vehicle):\n",
        "\n",
        "   def __init__(self,plate_no,fuel_type):\n",
        "    print(\"this  is the child constructor\")\n",
        "\n",
        "\n",
        "    def is_overloaded(self):\n",
        "        print(\"child 1 is called\")\n",
        "\n",
        "\n",
        "class Van(Vehicle):\n",
        "\n",
        "    def __init__(self, plate_no, fuel_type):\n",
        "      print(\"this is cild second \")\n",
        "\n",
        "\n",
        "    def is_overloaded(self):\n",
        "        print(\"child 2 is called\")\n",
        "\n",
        "\n",
        "a = Van(9292,'Petrol')\n",
        "print(a.is_overloaded())\n",
        "\n",
        "\n"
      ],
      "metadata": {
        "id": "XuexIzaLhrGY",
        "colab": {
          "base_uri": "https://localhost:8080/"
        },
        "outputId": "7b7701e0-4142-4bc7-ccf8-95e2f757d5d2"
      },
      "execution_count": 121,
      "outputs": [
        {
          "output_type": "stream",
          "name": "stdout",
          "text": [
            "this is cild second \n",
            "child 2 is called\n",
            "None\n"
          ]
        }
      ]
    },
    {
      "cell_type": "code",
      "source": [
        "# Has - A relationship\n",
        "\n",
        "class Customer:\n",
        "\n",
        "  def __init__(self,name,address,gender):\n",
        "    self.name = name\n",
        "    self.gender = gender\n",
        "    self.address = address\n",
        "\n",
        "\n",
        "\n",
        "class Address:\n",
        "\n",
        "\n",
        "  def __init__(self,city,pin,state):\n",
        "    self.__city = city\n",
        "    self.pin = pin\n",
        "    self.state = state\n",
        "\n",
        "  def get_city(self):\n",
        "    return self.city\n",
        "\n",
        "add1 = Address('gurgaao',122011,'haryaana')\n",
        "cust = Customer('Nitish',add1,'male')\n",
        "\n",
        "\n"
      ],
      "metadata": {
        "id": "y5AMcEZxhrDw"
      },
      "execution_count": 128,
      "outputs": []
    },
    {
      "cell_type": "code",
      "source": [
        "\n",
        "def __init__(self,name,address,gender):\n",
        "    self.name = name\n",
        "    self.gender = gender\n",
        "    self.address = address\n",
        "def print_address(self):\n",
        "   print(self.address.get_city, self.address.pin,self.address.state)\n",
        "\n",
        "\n",
        "class Address:\n",
        "\n",
        "\n",
        "  def __init__(self,city,pin,state):\n",
        "    self._city = city\n",
        "    self.pin = pin\n",
        "    self.state = state\n",
        "\n",
        "    def get_city(self):\n",
        "      return self._city\n",
        "\n",
        "\n",
        "add1 = Address('gurgaao',122011, 'haryana')\n",
        "cust = Customer('Nitish',add1,'male')"
      ],
      "metadata": {
        "id": "DUIDz8XwhrAr"
      },
      "execution_count": 135,
      "outputs": []
    },
    {
      "cell_type": "code",
      "source": [
        "# ● Add a class variable to count total trucks.\n",
        "# ● Add @classmethod to get the count.\n",
        "# ● Implement __str__() for pretty print.\n",
        "# ● Create TruckFleet class, and define __len__ to return number of trucks.\n",
        "\n",
        "class Truckfleet:\n",
        "\n",
        "\n",
        "  def __init__(self,)"
      ],
      "metadata": {
        "id": "pVBSOd5iLgjA"
      },
      "execution_count": null,
      "outputs": []
    },
    {
      "cell_type": "code",
      "source": [],
      "metadata": {
        "id": "xDmoxx7vLgev"
      },
      "execution_count": null,
      "outputs": []
    },
    {
      "cell_type": "code",
      "source": [],
      "metadata": {
        "id": "LB-geKwILgb_"
      },
      "execution_count": null,
      "outputs": []
    },
    {
      "cell_type": "code",
      "source": [],
      "metadata": {
        "id": "fzhL7i4KLgYp"
      },
      "execution_count": null,
      "outputs": []
    },
    {
      "cell_type": "code",
      "source": [],
      "metadata": {
        "id": "-Ss5m2ZVLgVm"
      },
      "execution_count": null,
      "outputs": []
    },
    {
      "cell_type": "code",
      "source": [],
      "metadata": {
        "id": "2zNeA67mLgSo"
      },
      "execution_count": null,
      "outputs": []
    },
    {
      "cell_type": "code",
      "source": [],
      "metadata": {
        "id": "I36BbN1hLgPn"
      },
      "execution_count": null,
      "outputs": []
    },
    {
      "cell_type": "code",
      "source": [],
      "metadata": {
        "id": "uxtGi5abLgNS"
      },
      "execution_count": null,
      "outputs": []
    },
    {
      "cell_type": "code",
      "source": [],
      "metadata": {
        "id": "bYuK8llgKqkb"
      },
      "execution_count": null,
      "outputs": []
    },
    {
      "cell_type": "code",
      "source": [],
      "metadata": {
        "id": "Wh6f0KbDhq91"
      },
      "execution_count": null,
      "outputs": []
    },
    {
      "cell_type": "code",
      "source": [],
      "metadata": {
        "id": "LAj3jWjPhq7O"
      },
      "execution_count": null,
      "outputs": []
    }
  ]
}
{
  "nbformat": 4,
  "nbformat_minor": 0,
  "metadata": {
    "colab": {
      "provenance": []
    },
    "kernelspec": {
      "name": "python3",
      "display_name": "Python 3"
    },
    "language_info": {
      "name": "python"
    }
  },
  "cells": [
    {
      "cell_type": "code",
      "source": [
        "class calculator:\n",
        "    def __init__(self, a, b):\n",
        "        self.a = a\n",
        "        self.b = b\n",
        "\n",
        "    def add(self):\n",
        "        return self.a + self.b\n",
        "\n",
        "    def sub(self):\n",
        "        return self.a - self.b\n",
        "\n",
        "    def mul(self):\n",
        "        return self.a * self.b\n",
        "\n",
        "my_calculator = calculator(4, 5)\n",
        "\n",
        "print(my_calculator.add())\n",
        "\n"
      ],
      "metadata": {
        "colab": {
          "base_uri": "https://localhost:8080/"
        },
        "id": "Wgt8TYjDauuD",
        "outputId": "f9f92aa4-d331-45c0-f124-8eaa0df97743"
      },
      "execution_count": 1,
      "outputs": [
        {
          "output_type": "stream",
          "name": "stdout",
          "text": [
            "9\n"
          ]
        }
      ]
    },
    {
      "cell_type": "code",
      "execution_count": 4,
      "metadata": {
        "colab": {
          "base_uri": "https://localhost:8080/"
        },
        "id": "OhnW4KXfaroq",
        "outputId": "d6239532-89bb-4412-a43b-f4dce54f236c"
      },
      "outputs": [
        {
          "output_type": "stream",
          "name": "stdout",
          "text": [
            "Chennai\n",
            "Rahul\n",
            "200000\n"
          ]
        }
      ],
      "source": [
        "# Define a Truck class with attributes: location, load_capacity, driver.\n",
        "# ● Create multiple instances and print their properties.\n",
        "# ● Add a method is_overloaded(current_weight).\n",
        "\n",
        "\n",
        "class Truck:\n",
        "  def __init__(self,location,capacity,driver):\n",
        "    self.location = location\n",
        "    self.capacity = capacity\n",
        "    self.driver = driver\n",
        "\n",
        "\n",
        "  def is_overloaded(self,current_weight):\n",
        "    self.current_weight = current_weight\n",
        "\n",
        "    if current_weight>self.capacity:\n",
        "      return True\n",
        "    else:\n",
        "      return False\n",
        "\n",
        "my_truck1 = Truck('Chennai','2000 MT','ramesh')\n",
        "my_truck2 = Truck('Delhi','40000','Rahul')\n",
        "my_truck3 = Truck('Mysore','200000','sanskar')\n",
        "print(my_truck1.location)\n",
        "print(my_truck2.driver)\n",
        "print(my_truck3.capacity)\n"
      ]
    },
    {
      "cell_type": "code",
      "source": [
        "class Private:\n",
        "    def __init__(self):\n",
        "        self.__salary = 50000  # Private attribute\n",
        "\n",
        "    def salary(self):\n",
        "        return self.__salary  # Access through public method\n",
        "\n",
        "obj = Private()\n",
        "print(obj.salary())  # Works\n",
        "#print(obj.__salary)  # Raises AttributeError"
      ],
      "metadata": {
        "colab": {
          "base_uri": "https://localhost:8080/"
        },
        "id": "BHaMyqmsoU1B",
        "outputId": "480feff4-8c74-4e59-e75a-208660f875a9"
      },
      "execution_count": 6,
      "outputs": [
        {
          "output_type": "stream",
          "name": "stdout",
          "text": [
            "50000\n"
          ]
        }
      ]
    },
    {
      "cell_type": "code",
      "source": [
        "class Employee:\n",
        "    def __init__(self):\n",
        "        self.__salary = 50000\n",
        "\n",
        "    def get_salary(self):\n",
        "        return self.__salary\n",
        "\n",
        "    def set_salary(self, amount):\n",
        "        if amount > 0:\n",
        "            self.__salary = amount\n",
        "        else:\n",
        "            print(\"Invalid salary amount!\")\n",
        "\n",
        "emp = Employee()\n",
        "print(emp.get_salary())\n",
        "\n",
        "\n",
        "emp.set_salary(60000)\n",
        "print(emp.get_salary())"
      ],
      "metadata": {
        "colab": {
          "base_uri": "https://localhost:8080/"
        },
        "id": "h54E9KuIoUxO",
        "outputId": "76850e3c-a2df-490e-a90e-88a0793e65c0"
      },
      "execution_count": 11,
      "outputs": [
        {
          "output_type": "stream",
          "name": "stdout",
          "text": [
            "50000\n",
            "60000\n"
          ]
        }
      ]
    },
    {
      "cell_type": "code",
      "source": [
        "# Add _fuel_level as a private attribute to Truck.\n",
        "# ● Create getter/setter using @property.\n",
        "# ● Prevent setting fuel above 100.\n",
        "\n",
        "class Truck:\n",
        "  def __init__(self,location,capacity,driver,fuel_level):\n",
        "    self._fuel_level = fuel_level\n",
        "    self.location = location\n",
        "    self.capacity = capacity\n",
        "    self.driver = driver\n",
        "\n",
        "\n",
        "  def is_overloaded(self,current_weight):\n",
        "    self.current_weight = current_weight\n",
        "\n",
        "    if current_weight>self.capacity:\n",
        "      return True\n",
        "    else:\n",
        "      return False\n",
        "\n",
        "  @property\n",
        "  def value(self):\n",
        "    return self._fuel_level\n",
        "\n",
        "  @value.setter\n",
        "  def value(self,value):\n",
        "    if 0 <= value <= 100:\n",
        "       self.__fuel_level = value\n",
        "    else:\n",
        "       raise  \"value does not specify the level\"\n",
        "\n",
        "\n",
        "\n",
        "\n",
        "\n",
        "# my_truck1 = Truck('Chennai','2000 MT','ramesh')\n",
        "# my_truck2 = Truck('Delhi','40000','Rahul')\n",
        "# my_truck3 = Truck('Mysore','200000','sanskar')\n",
        "my_truck = Truck('Nepanagar','100000','Rakesh',60)\n",
        "# print(my_truck1.location)\n",
        "# print(my_truck2.driver)\n",
        "# print(my_truck3.capacity)\n",
        "print(my_truck.value)\n",
        "print(my_truck.capacity)\n",
        "print(my_truck.driver)"
      ],
      "metadata": {
        "colab": {
          "base_uri": "https://localhost:8080/"
        },
        "id": "enpkyjfWoUuN",
        "outputId": "ec1c4a0f-e21e-468b-bb50-1e0d85819bfc"
      },
      "execution_count": 52,
      "outputs": [
        {
          "output_type": "stream",
          "name": "stdout",
          "text": [
            "60\n",
            "100000\n",
            "Rakesh\n"
          ]
        }
      ]
    },
    {
      "cell_type": "code",
      "source": [
        "class Student:\n",
        "    grade = 4  # This is a class attribute\n",
        "\n",
        "    def __init__(self, name, age):\n",
        "        self.name = name\n",
        "        self.age = age\n",
        "\n",
        "    def get_data(self):\n",
        "        print({'name': self.name, 'age': self.age, 'grade': self.grade})\n",
        "\n",
        "    @classmethod\n",
        "    def upgrade_grade(cls, grade):\n",
        "        cls.grade = grade  # Modifies the class attribute\n",
        "\n",
        "\n",
        "    @staticmethod\n",
        "    def checkage(age):\n",
        "      if age  > 18:\n",
        "        print(\"Age above 18\")\n",
        "      else:\n",
        "        print(\" Age below 18\")\n",
        "\n",
        "\n",
        "\n",
        "s1 = Student('abc', 34)\n",
        "s2 = Student('xyz', 25)\n",
        "\n",
        "Student.upgrade_grade(20) # Calling the class method using the class itself\n",
        "Student.checkage(15)\n",
        "\n",
        "s1.get_data()\n",
        "s2.get_data()\n"
      ],
      "metadata": {
        "colab": {
          "base_uri": "https://localhost:8080/"
        },
        "id": "_Gg7_z9poUrK",
        "outputId": "3797587e-ad99-418a-d463-c045ad45bdaa"
      },
      "execution_count": 61,
      "outputs": [
        {
          "output_type": "stream",
          "name": "stdout",
          "text": [
            " Age below 18\n",
            "{'name': 'abc', 'age': 34, 'grade': 20}\n",
            "{'name': 'xyz', 'age': 25, 'grade': 20}\n"
          ]
        }
      ]
    },
    {
      "cell_type": "code",
      "source": [
        "class User:\n",
        "\n",
        "  def __init__(self):\n",
        "    self.name = 'sahil'\n",
        "\n",
        "\n",
        "  def login(password):\n",
        "    print('login')\n",
        "\n",
        "\n",
        "class Student(User):\n",
        "\n",
        "  # def __init__(self):\n",
        "  #   self.roll_no =  1234\n",
        "\n",
        "\n",
        "  def enroll(self):\n",
        "    print(\"Enrollment has happened\")\n",
        "\n",
        "\n",
        "a = Student()\n",
        "w = User()\n",
        "\n",
        "\n",
        "\n",
        "print(a.name)\n",
        "print(w.login())\n",
        "print(a.enroll())\n",
        "\n",
        "\n",
        "\n",
        "\n",
        "\n",
        "\n",
        "\n",
        "\n"
      ],
      "metadata": {
        "colab": {
          "base_uri": "https://localhost:8080/"
        },
        "id": "LlnifMHloUnk",
        "outputId": "018feb00-0350-4348-8068-c5fdf14fa1b1"
      },
      "execution_count": 74,
      "outputs": [
        {
          "output_type": "stream",
          "name": "stdout",
          "text": [
            "sahil\n",
            "login\n",
            "None\n",
            "Enrollment has happened\n",
            "None\n"
          ]
        }
      ]
    },
    {
      "cell_type": "code",
      "source": [
        "# class GrandParents:\n",
        "\n",
        "\n",
        "#   def __init__(self,name):\n",
        "#     self.name = name\n",
        "\n",
        "\n",
        "# class Parents(GrandParents):\n",
        "\n",
        "#   def __init__(self,surname):\n",
        "#     self.roll_no = 1234\n",
        "#     self.surname = surname\n",
        "\n",
        "\n",
        "# class Child(Parents):\n",
        "\n",
        "\n",
        "#   def __init__(self,city,address):\n",
        "#     self.city = city\n",
        "#     self.address = address\n",
        "\n",
        "\n",
        "# a = Child(\"Nepanagar\",\"Bhawani Nagar\")\n",
        "# b = Parents(\"chourasiya\")\n",
        "# c = GrandParents(\"Sahil\")\n",
        "\n",
        "# print(a.city())\n",
        "\n",
        "\n"
      ],
      "metadata": {
        "id": "5hudUJ6aK5y7"
      },
      "execution_count": 91,
      "outputs": []
    },
    {
      "cell_type": "code",
      "source": [],
      "metadata": {
        "id": "uCk7OwTBoUlT"
      },
      "execution_count": null,
      "outputs": []
    }
  ]
}
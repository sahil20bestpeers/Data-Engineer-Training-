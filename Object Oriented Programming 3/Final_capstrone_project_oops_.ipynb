{
  "nbformat": 4,
  "nbformat_minor": 0,
  "metadata": {
    "colab": {
      "provenance": []
    },
    "kernelspec": {
      "name": "python3",
      "display_name": "Python 3"
    },
    "language_info": {
      "name": "python"
    }
  },
  "cells": [
    {
      "cell_type": "code",
      "execution_count": 1,
      "metadata": {
        "id": "tbNwaekqC3bq"
      },
      "outputs": [],
      "source": [
        "class Person:\n",
        "\n",
        "  def __init__(self,name_input,country_input):\n",
        "    self.name = name_input\n",
        "    self.country_input =  country_input\n",
        "\n",
        "\n",
        "p1 = Person('Nitish','India')\n",
        "p2 = Person('steves','australia')\n",
        "\n"
      ]
    },
    {
      "cell_type": "code",
      "source": [
        "class Person:\n",
        "\n",
        "  def __init__(self,name,gender):\n",
        "    self.name = name\n",
        "    self.gender = gender\n",
        "\n",
        "\n",
        "p1 = Person(\"sahil\",\"Male\")\n",
        "p2 = Person(\"Harsh\",\"Male\")\n",
        "\n",
        "\n",
        "L = [p1,p2]\n",
        "\n",
        "\n",
        "for i in L:\n",
        "  print(i.name,i.gender)\n"
      ],
      "metadata": {
        "colab": {
          "base_uri": "https://localhost:8080/"
        },
        "id": "LXPaoC72Jn67",
        "outputId": "10e47597-b79b-476a-aa83-abc72ca6658f"
      },
      "execution_count": 5,
      "outputs": [
        {
          "output_type": "stream",
          "name": "stdout",
          "text": [
            "sahil Male\n",
            "Harsh Male\n"
          ]
        }
      ]
    },
    {
      "cell_type": "code",
      "source": [
        "d = {'p1':p1,'P2':p2}\n",
        "\n",
        "for i in d:\n",
        "  print(d[i].gender)"
      ],
      "metadata": {
        "colab": {
          "base_uri": "https://localhost:8080/"
        },
        "id": "ToFqy-xaJn2X",
        "outputId": "08119529-23e7-4937-90fd-1f60310b90d6"
      },
      "execution_count": 9,
      "outputs": [
        {
          "output_type": "stream",
          "name": "stdout",
          "text": [
            "Male\n",
            "Male\n"
          ]
        }
      ]
    },
    {
      "cell_type": "code",
      "source": [
        "class Point:\n",
        "\n",
        "\n",
        "  def __init__(self,x,y):\n",
        "    self.x_cod = x\n",
        "    self.y_cod = y\n",
        "\n",
        "\n",
        "  def __str__(self):\n",
        "      return '<{},{}>'.format(self.x_cod, self.y_cod)\n",
        "\n",
        "\n",
        "  def euclidiean_distance(self,other):\n",
        "      return ((self.x_cod - other.x_cod)**2 + (self.y_cod - other.y_cod)**2)**0.5\n",
        "\n",
        ""
      ],
      "metadata": {
        "id": "ZmEHKK65Jnzt"
      },
      "execution_count": 22,
      "outputs": []
    },
    {
      "cell_type": "code",
      "source": [
        "p1 = Point(0,0)\n",
        "p2 = Point(10,10)\n",
        "\n",
        "p1.euclidiean_distance(p2)"
      ],
      "metadata": {
        "colab": {
          "base_uri": "https://localhost:8080/"
        },
        "id": "ynAlsUb5W_3h",
        "outputId": "cfef2307-267e-42df-8960-fe930b69c1e0"
      },
      "execution_count": 23,
      "outputs": [
        {
          "output_type": "execute_result",
          "data": {
            "text/plain": [
              "14.142135623730951"
            ]
          },
          "metadata": {},
          "execution_count": 23
        }
      ]
    },
    {
      "cell_type": "code",
      "source": [],
      "metadata": {
        "id": "0d1tF6zDVUWm"
      },
      "execution_count": null,
      "outputs": []
    },
    {
      "cell_type": "code",
      "source": [
        "P1 = Point(0,0)\n",
        "p2 = Point(-2,-1)\n",
        "\n",
        "print(P1)\n",
        "print(p2)"
      ],
      "metadata": {
        "colab": {
          "base_uri": "https://localhost:8080/"
        },
        "id": "uEjQ74KWJnwJ",
        "outputId": "d19c9383-2d7d-4db9-8450-63d689531494"
      },
      "execution_count": 17,
      "outputs": [
        {
          "output_type": "stream",
          "name": "stdout",
          "text": [
            "<__main__.Point object at 0x781c425fc190>\n",
            "<__main__.Point object at 0x781c41cf9250>\n"
          ]
        }
      ]
    },
    {
      "cell_type": "code",
      "source": [
        "class Person:\n",
        "\n",
        "\n",
        "  def __init__(self,name,country_input):\n",
        "    self.name  = name\n",
        "    self.country = country_input\n",
        "\n",
        "\n",
        "    def greet( self):\n",
        "      if self.country == \"India\":\n",
        "        print(\"Namaste\",self.name)\n",
        "      else:\n",
        "        print(\"It is not our country\".self.country_input)"
      ],
      "metadata": {
        "id": "Pij48ZH_Jns7"
      },
      "execution_count": 29,
      "outputs": []
    },
    {
      "cell_type": "code",
      "source": [],
      "metadata": {
        "id": "2bZ1-bPjpLqQ"
      },
      "execution_count": null,
      "outputs": []
    },
    {
      "cell_type": "code",
      "source": [
        "p = Person(\"sahil\",\"Namaste\")"
      ],
      "metadata": {
        "id": "c8jZSp5uJnp5"
      },
      "execution_count": 30,
      "outputs": []
    },
    {
      "cell_type": "code",
      "source": [
        "p.name"
      ],
      "metadata": {
        "colab": {
          "base_uri": "https://localhost:8080/",
          "height": 36
        },
        "id": "wcuiwWUrJnnO",
        "outputId": "35538025-2154-494f-e1f4-6ec0df4f6969"
      },
      "execution_count": 31,
      "outputs": [
        {
          "output_type": "execute_result",
          "data": {
            "text/plain": [
              "'sahil'"
            ],
            "application/vnd.google.colaboratory.intrinsic+json": {
              "type": "string"
            }
          },
          "metadata": {},
          "execution_count": 31
        }
      ]
    },
    {
      "cell_type": "code",
      "source": [
        "p.country"
      ],
      "metadata": {
        "colab": {
          "base_uri": "https://localhost:8080/",
          "height": 36
        },
        "id": "NKcPK1aSn0pi",
        "outputId": "27e91c62-6ce7-4a73-cd08-e7759ad4682b"
      },
      "execution_count": 32,
      "outputs": [
        {
          "output_type": "execute_result",
          "data": {
            "text/plain": [
              "'Namaste'"
            ],
            "application/vnd.google.colaboratory.intrinsic+json": {
              "type": "string"
            }
          },
          "metadata": {},
          "execution_count": 32
        }
      ]
    },
    {
      "cell_type": "code",
      "source": [
        "p.gender = \"male\""
      ],
      "metadata": {
        "id": "cTo_NDhaqKUc"
      },
      "execution_count": 33,
      "outputs": []
    },
    {
      "cell_type": "code",
      "source": [
        "p.gender"
      ],
      "metadata": {
        "colab": {
          "base_uri": "https://localhost:8080/",
          "height": 36
        },
        "id": "52HJxuteqKQp",
        "outputId": "2699fdda-4b2c-4ef0-d389-a882263ba50c"
      },
      "execution_count": 34,
      "outputs": [
        {
          "output_type": "execute_result",
          "data": {
            "text/plain": [
              "'male'"
            ],
            "application/vnd.google.colaboratory.intrinsic+json": {
              "type": "string"
            }
          },
          "metadata": {},
          "execution_count": 34
        }
      ]
    },
    {
      "cell_type": "code",
      "source": [
        "#object without  a reference\n",
        "\n",
        "class Person:\n",
        "\n",
        "  def __init__(self):\n",
        "    self.name = \"Nitish\"\n",
        "    self.gender =\"Male\"\n",
        "\n",
        "\n",
        "p = Person()\n",
        "q = p"
      ],
      "metadata": {
        "id": "xRbF8tYPqKN4"
      },
      "execution_count": 36,
      "outputs": []
    },
    {
      "cell_type": "code",
      "source": [
        "print(id(p))\n",
        "print(id(q))"
      ],
      "metadata": {
        "colab": {
          "base_uri": "https://localhost:8080/"
        },
        "id": "r3rIo_WjqKLI",
        "outputId": "95cb341a-5d5f-4a6d-effa-0aae2d4dcd0c"
      },
      "execution_count": 37,
      "outputs": [
        {
          "output_type": "stream",
          "name": "stdout",
          "text": [
            "132062759723920\n",
            "132062759723920\n"
          ]
        }
      ]
    },
    {
      "cell_type": "code",
      "source": [
        "print(p.name)\n",
        "print(q.name)\n",
        "\n",
        "q.name = 'ankit'\n",
        "\n",
        "print(q.name)\n",
        "print(p.name)"
      ],
      "metadata": {
        "colab": {
          "base_uri": "https://localhost:8080/"
        },
        "id": "AL9u3lNjqKHf",
        "outputId": "4bbc13ea-f0e6-440b-ffaa-0c704a62a29e"
      },
      "execution_count": 38,
      "outputs": [
        {
          "output_type": "stream",
          "name": "stdout",
          "text": [
            "Nitish\n",
            "Nitish\n",
            "ankit\n",
            "ankit\n"
          ]
        }
      ]
    },
    {
      "cell_type": "code",
      "source": [
        "class Person:\n",
        "\n",
        "\n",
        "  def __init__(self,name,gender):\n",
        "    self.name = name\n",
        "    self.gender = gender\n",
        "\n",
        "\n",
        "\n",
        "def greet(Person):\n",
        "  print(id(Person))\n",
        "  print(\"Hi my name is \",Person.name,'and I am a ',Person.gender)\n",
        "  Person.name = \"ankit\"\n",
        "  print(Person.name)\n",
        "\n",
        "\n",
        "\n",
        "p = Person(\"Nitish\",\"male\")\n",
        "print(id(p))\n",
        "greet(p)\n",
        "print(p.name)\n",
        "\n"
      ],
      "metadata": {
        "colab": {
          "base_uri": "https://localhost:8080/"
        },
        "id": "sGOx1h4GtiMC",
        "outputId": "237df19b-92c4-4c29-dc22-4123dddcf251"
      },
      "execution_count": 49,
      "outputs": [
        {
          "output_type": "stream",
          "name": "stdout",
          "text": [
            "132062758408592\n",
            "132062758408592\n",
            "Hi my name is  Nitish and I am a  male\n",
            "ankit\n",
            "ankit\n"
          ]
        }
      ]
    },
    {
      "cell_type": "code",
      "source": [
        "# Mutability concept in OOPs objects\n",
        "\n",
        "class Person:\n",
        "\n",
        "\n",
        "  def __init__(self,name,gender):\n",
        "    self.name = name\n",
        "    self.gender = gender\n",
        "\n",
        "\n",
        "\n",
        "def greet(Person):\n",
        "  print(id(Person))\n",
        "  print(\"Hi my name is \",Person.name,'and I am a ',Person.gender)\n",
        "  Person.name = \"ankit\"\n",
        "  return Person\n",
        "\n",
        "\n",
        "\n",
        "p = Person(\"Nitish\",\"male\")\n",
        "print(id(p))\n",
        "p1 = greet(p)\n",
        "print(id(p1))\n"
      ],
      "metadata": {
        "colab": {
          "base_uri": "https://localhost:8080/"
        },
        "id": "ECPtOzABtiHp",
        "outputId": "82440024-3661-4838-9874-93f4a9ea7acb"
      },
      "execution_count": 50,
      "outputs": [
        {
          "output_type": "stream",
          "name": "stdout",
          "text": [
            "132062759945808\n",
            "132062759945808\n",
            "Hi my name is  Nitish and I am a  male\n",
            "132062759945808\n"
          ]
        }
      ]
    },
    {
      "cell_type": "code",
      "source": [
        "#🎯 Project Overview:\n",
        "# Build a modular pipeline using OOP for processing data files and logging results.\n",
        "# 🔧 Classes to Create:\n",
        "# 1. DataLoader – load CSV/JSON files.\n",
        "# 2. DataCleaner – drop nulls, fix types.\n",
        "# 3. DataTransformer – add calculated fields.\n",
        "# 4. Logger – logs events with timestamps.\n",
        "# 5. PipelineManager – orchestrates the above classes.\n",
        "# 💡 Bonus:\n",
        "# ● Add unit test support (unittest or pytest)\n",
        "# ● Implement logging using built-in logging module\n",
        "# ● Design it for extension: make it work for both sales and weather datasets\n"
      ],
      "metadata": {
        "id": "QiuAYDa4tiE1"
      },
      "execution_count": null,
      "outputs": []
    },
    {
      "cell_type": "code",
      "source": [
        "import pandas as pd\n",
        "import os\n",
        "\n",
        "class DataLoader:\n",
        "\n",
        "    def __init__(self, file_to_load):\n",
        "      self.file = file_to_load\n",
        "\n",
        "    def load(self):\n",
        "      self.df = pd.read_csv(self.file)\n",
        "      print(self.df.head())\n",
        "\n",
        "\n",
        "\n",
        "file_to_load = \"/content/expense_data.csv\"\n",
        "a = DataLoader(file_to_load)\n",
        "\n",
        "a.load()\n",
        "\n"
      ],
      "metadata": {
        "colab": {
          "base_uri": "https://localhost:8080/"
        },
        "id": "vNHZznRqtiBm",
        "outputId": "8cf229d5-9f3a-44a2-e338-4cc9109dbc00"
      },
      "execution_count": 110,
      "outputs": [
        {
          "output_type": "stream",
          "name": "stdout",
          "text": [
            "             Date               Account        Category  Subcategory  \\\n",
            "0  3/2/2022 10:11  CUB - online payment            Food          NaN   \n",
            "1  3/2/2022 10:11  CUB - online payment           Other          NaN   \n",
            "2  3/1/2022 19:50  CUB - online payment            Food          NaN   \n",
            "3  3/1/2022 18:56  CUB - online payment  Transportation          NaN   \n",
            "4  3/1/2022 18:22  CUB - online payment            Food          NaN   \n",
            "\n",
            "               Note    INR Income/Expense  Note.1  Amount Currency  Account.1  \n",
            "0           Brownie   50.0        Expense     NaN    50.0      INR       50.0  \n",
            "1  To lended people  300.0        Expense     NaN   300.0      INR      300.0  \n",
            "2            Dinner   78.0        Expense     NaN    78.0      INR       78.0  \n",
            "3             Metro   30.0        Expense     NaN    30.0      INR       30.0  \n",
            "4            Snacks   67.0        Expense     NaN    67.0      INR       67.0  \n"
          ]
        }
      ]
    },
    {
      "cell_type": "code",
      "source": [
        "class DataCleaner(DataLoader):\n",
        "\n",
        "  def clean(self):\n",
        "    super().load()\n",
        "    # print(self.df.isna().sum())\n",
        "    # # self.df.dropna()\n",
        "\n",
        "\n",
        "\n",
        "    self.df['Subcategory'].fillna(0, inplace=True)\n",
        "    self.df['Note.1'].fillna(99, inplace=True)\n",
        "\n",
        "    self.newdf = self.df\n",
        "    print('done')\n",
        "\n",
        "\n",
        "\n",
        "b = DataCleaner(file_to_load)\n",
        "z= b.clean()\n",
        "print(z)\n"
      ],
      "metadata": {
        "colab": {
          "base_uri": "https://localhost:8080/"
        },
        "id": "X0UCbxc2th-5",
        "outputId": "5886886a-991c-4fb7-a1fc-f481abb9c49c"
      },
      "execution_count": 141,
      "outputs": [
        {
          "output_type": "stream",
          "name": "stdout",
          "text": [
            "             Date               Account        Category  Subcategory  \\\n",
            "0  3/2/2022 10:11  CUB - online payment            Food          NaN   \n",
            "1  3/2/2022 10:11  CUB - online payment           Other          NaN   \n",
            "2  3/1/2022 19:50  CUB - online payment            Food          NaN   \n",
            "3  3/1/2022 18:56  CUB - online payment  Transportation          NaN   \n",
            "4  3/1/2022 18:22  CUB - online payment            Food          NaN   \n",
            "\n",
            "               Note    INR Income/Expense  Note.1  Amount Currency  Account.1  \n",
            "0           Brownie   50.0        Expense     NaN    50.0      INR       50.0  \n",
            "1  To lended people  300.0        Expense     NaN   300.0      INR      300.0  \n",
            "2            Dinner   78.0        Expense     NaN    78.0      INR       78.0  \n",
            "3             Metro   30.0        Expense     NaN    30.0      INR       30.0  \n",
            "4            Snacks   67.0        Expense     NaN    67.0      INR       67.0  \n",
            "done\n",
            "None\n"
          ]
        },
        {
          "output_type": "stream",
          "name": "stderr",
          "text": [
            "/tmp/ipython-input-141-422065876.py:10: FutureWarning: A value is trying to be set on a copy of a DataFrame or Series through chained assignment using an inplace method.\n",
            "The behavior will change in pandas 3.0. This inplace method will never work because the intermediate object on which we are setting values always behaves as a copy.\n",
            "\n",
            "For example, when doing 'df[col].method(value, inplace=True)', try using 'df.method({col: value}, inplace=True)' or df[col] = df[col].method(value) instead, to perform the operation inplace on the original object.\n",
            "\n",
            "\n",
            "  self.df['Subcategory'].fillna(0, inplace=True)\n",
            "/tmp/ipython-input-141-422065876.py:11: FutureWarning: A value is trying to be set on a copy of a DataFrame or Series through chained assignment using an inplace method.\n",
            "The behavior will change in pandas 3.0. This inplace method will never work because the intermediate object on which we are setting values always behaves as a copy.\n",
            "\n",
            "For example, when doing 'df[col].method(value, inplace=True)', try using 'df.method({col: value}, inplace=True)' or df[col] = df[col].method(value) instead, to perform the operation inplace on the original object.\n",
            "\n",
            "\n",
            "  self.df['Note.1'].fillna(99, inplace=True)\n"
          ]
        }
      ]
    },
    {
      "cell_type": "code",
      "source": [
        "class DataTransformer(DataCleaner):\n",
        "\n",
        "  def transform(self):\n",
        "    super().clean()\n",
        "    print(self.newdf)\n",
        "\n",
        "h = DataTransformer(file_to_load)\n",
        "h.transform()\n",
        "\n"
      ],
      "metadata": {
        "colab": {
          "base_uri": "https://localhost:8080/"
        },
        "id": "CTqprefbth7y",
        "outputId": "7450d296-e2d7-4824-892d-01f4d711dd1f"
      },
      "execution_count": 143,
      "outputs": [
        {
          "output_type": "stream",
          "name": "stdout",
          "text": [
            "             Date               Account        Category  Subcategory  \\\n",
            "0  3/2/2022 10:11  CUB - online payment            Food          NaN   \n",
            "1  3/2/2022 10:11  CUB - online payment           Other          NaN   \n",
            "2  3/1/2022 19:50  CUB - online payment            Food          NaN   \n",
            "3  3/1/2022 18:56  CUB - online payment  Transportation          NaN   \n",
            "4  3/1/2022 18:22  CUB - online payment            Food          NaN   \n",
            "\n",
            "               Note    INR Income/Expense  Note.1  Amount Currency  Account.1  \n",
            "0           Brownie   50.0        Expense     NaN    50.0      INR       50.0  \n",
            "1  To lended people  300.0        Expense     NaN   300.0      INR      300.0  \n",
            "2            Dinner   78.0        Expense     NaN    78.0      INR       78.0  \n",
            "3             Metro   30.0        Expense     NaN    30.0      INR       30.0  \n",
            "4            Snacks   67.0        Expense     NaN    67.0      INR       67.0  \n",
            "done\n",
            "                 Date               Account        Category  Subcategory  \\\n",
            "0      3/2/2022 10:11  CUB - online payment            Food          0.0   \n",
            "1      3/2/2022 10:11  CUB - online payment           Other          0.0   \n",
            "2      3/1/2022 19:50  CUB - online payment            Food          0.0   \n",
            "3      3/1/2022 18:56  CUB - online payment  Transportation          0.0   \n",
            "4      3/1/2022 18:22  CUB - online payment            Food          0.0   \n",
            "..                ...                   ...             ...          ...   \n",
            "272  11/22/2021 14:16  CUB - online payment            Food          0.0   \n",
            "273  11/22/2021 14:16  CUB - online payment            Food          0.0   \n",
            "274  11/21/2021 17:07  CUB - online payment  Transportation          0.0   \n",
            "275  11/21/2021 15:50  CUB - online payment            Food          0.0   \n",
            "276  11/21/2021 13:30  CUB - online payment           Other          0.0   \n",
            "\n",
            "                   Note     INR Income/Expense  Note.1  Amount Currency  \\\n",
            "0               Brownie    50.0        Expense    99.0    50.0      INR   \n",
            "1      To lended people   300.0        Expense    99.0   300.0      INR   \n",
            "2                Dinner    78.0        Expense    99.0    78.0      INR   \n",
            "3                 Metro    30.0        Expense    99.0    30.0      INR   \n",
            "4                Snacks    67.0        Expense    99.0    67.0      INR   \n",
            "..                  ...     ...            ...     ...     ...      ...   \n",
            "272              Dinner    90.0        Expense    99.0    90.0      INR   \n",
            "273  Lunch with company    97.0        Expense    99.0    97.0      INR   \n",
            "274              Rapido   130.0        Expense    99.0   130.0      INR   \n",
            "275               Lunch   875.0        Expense    99.0   875.0      INR   \n",
            "276       Got from gobi  2000.0         Income    99.0  2000.0      INR   \n",
            "\n",
            "     Account.1  \n",
            "0         50.0  \n",
            "1        300.0  \n",
            "2         78.0  \n",
            "3         30.0  \n",
            "4         67.0  \n",
            "..         ...  \n",
            "272       90.0  \n",
            "273       97.0  \n",
            "274      130.0  \n",
            "275      875.0  \n",
            "276     2000.0  \n",
            "\n",
            "[277 rows x 11 columns]\n"
          ]
        },
        {
          "output_type": "stream",
          "name": "stderr",
          "text": [
            "/tmp/ipython-input-141-422065876.py:10: FutureWarning: A value is trying to be set on a copy of a DataFrame or Series through chained assignment using an inplace method.\n",
            "The behavior will change in pandas 3.0. This inplace method will never work because the intermediate object on which we are setting values always behaves as a copy.\n",
            "\n",
            "For example, when doing 'df[col].method(value, inplace=True)', try using 'df.method({col: value}, inplace=True)' or df[col] = df[col].method(value) instead, to perform the operation inplace on the original object.\n",
            "\n",
            "\n",
            "  self.df['Subcategory'].fillna(0, inplace=True)\n",
            "/tmp/ipython-input-141-422065876.py:11: FutureWarning: A value is trying to be set on a copy of a DataFrame or Series through chained assignment using an inplace method.\n",
            "The behavior will change in pandas 3.0. This inplace method will never work because the intermediate object on which we are setting values always behaves as a copy.\n",
            "\n",
            "For example, when doing 'df[col].method(value, inplace=True)', try using 'df.method({col: value}, inplace=True)' or df[col] = df[col].method(value) instead, to perform the operation inplace on the original object.\n",
            "\n",
            "\n",
            "  self.df['Note.1'].fillna(99, inplace=True)\n"
          ]
        }
      ]
    },
    {
      "cell_type": "code",
      "source": [],
      "metadata": {
        "id": "VMyATcKKth5A"
      },
      "execution_count": null,
      "outputs": []
    },
    {
      "cell_type": "code",
      "source": [],
      "metadata": {
        "id": "L4uOKa0Oth2N"
      },
      "execution_count": null,
      "outputs": []
    },
    {
      "cell_type": "code",
      "source": [],
      "metadata": {
        "id": "XwNXZb2Uthyq"
      },
      "execution_count": null,
      "outputs": []
    },
    {
      "cell_type": "code",
      "source": [],
      "metadata": {
        "id": "F0itqEhethwR"
      },
      "execution_count": null,
      "outputs": []
    }
  ]
}